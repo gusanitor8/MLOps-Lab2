{
 "cells": [
  {
   "cell_type": "code",
   "execution_count": 17,
   "id": "5bb050bc",
   "metadata": {},
   "outputs": [],
   "source": [
    "import pandas as pd\n",
    "import chardet\n",
    "import unicodedata\n",
    "import seaborn as sns\n",
    "import matplotlib.pyplot as plt\n",
    "import math"
   ]
  },
  {
   "cell_type": "markdown",
   "id": "d1aa0855",
   "metadata": {},
   "source": [
    "# Utility Functions"
   ]
  },
  {
   "cell_type": "code",
   "execution_count": 2,
   "id": "e880649c",
   "metadata": {},
   "outputs": [],
   "source": [
    "def remove_accents(s):\n",
    "    if isinstance(s, str):\n",
    "        nfkd_form = unicodedata.normalize(\"NFKD\", s)\n",
    "        return \"\".join(c for c in nfkd_form if not unicodedata.combining(c))\n",
    "    return s  # leave non-strings untouched"
   ]
  },
  {
   "cell_type": "code",
   "execution_count": 21,
   "id": "58b956ed",
   "metadata": {},
   "outputs": [],
   "source": [
    "def plot_histogram(df, column, bins=30):\n",
    "    \"\"\"\n",
    "    Plots a histogram for a single numerical column from a DataFrame.\n",
    "\n",
    "    Args:\n",
    "        df (pd.DataFrame): The DataFrame containing the data.\n",
    "        column (str): The name of the numeric column to plot.\n",
    "        bins (int): Number of bins in the histogram.\n",
    "    \"\"\"\n",
    "    if column not in df.columns:\n",
    "        raise ValueError(f\"Column '{column}' not found in DataFrame.\")\n",
    "    \n",
    "    if not pd.api.types.is_numeric_dtype(df[column]):\n",
    "        raise TypeError(f\"Column '{column}' is not numeric.\")\n",
    "    \n",
    "    col_min, col_max = df[column].min(), df[column].max()\n",
    "    \n",
    "    plt.figure(figsize=(8, 5))\n",
    "    sns.histplot(df[column], bins=bins, color='skyblue', edgecolor='black', binrange=(col_min, col_max))\n",
    "    plt.title(f\"Histogram of '{column}'\")\n",
    "    plt.xlabel(column)\n",
    "    plt.ylabel(\"Frequency\")\n",
    "    plt.xlim(col_min, col_max)\n",
    "    plt.show()"
   ]
  },
  {
   "cell_type": "code",
   "execution_count": 25,
   "id": "b5aaab73",
   "metadata": {},
   "outputs": [],
   "source": [
    "def remove_outliers(df, column, n_std=3):\n",
    "    \"\"\"\n",
    "    Removes values in a column that are more than `n_std` standard deviations from the mean.\n",
    "\n",
    "    Args:\n",
    "        df (pd.DataFrame): The DataFrame containing the data.\n",
    "        column (str): Name of the numeric column to clean.\n",
    "        n_std (float): Number of standard deviations to use as the cutoff.\n",
    "\n",
    "    Returns:\n",
    "        pd.DataFrame: A copy of the DataFrame with outliers removed.\n",
    "    \"\"\"\n",
    "    if column not in df.columns:\n",
    "        raise ValueError(f\"Column '{column}' not found in DataFrame.\")\n",
    "    \n",
    "    if not pd.api.types.is_numeric_dtype(df[column]):\n",
    "        raise TypeError(f\"Column '{column}' is not numeric.\")\n",
    "    \n",
    "    mean = df[column].mean()\n",
    "    std = df[column].std()\n",
    "    \n",
    "    lower_bound = mean - n_std * std\n",
    "    upper_bound = mean + n_std * std\n",
    "    \n",
    "    return df[(df[column] >= lower_bound) & (df[column] <= upper_bound)].copy()"
   ]
  },
  {
   "cell_type": "code",
   "execution_count": 59,
   "id": "b715aa3d",
   "metadata": {},
   "outputs": [],
   "source": [
    "def unique_values_non_numeric(df):\n",
    "    \"\"\"\n",
    "    Prints the number and list of unique values for each non-numeric column in a DataFrame.\n",
    "    \"\"\"\n",
    "    non_numeric_cols = df.select_dtypes(exclude='number').columns\n",
    "    \n",
    "    for col in non_numeric_cols:\n",
    "        uniques = df[col].unique()\n",
    "        print(f\"Column: {col}\")\n",
    "        print(f\"  Unique count: {df[col].nunique()}\")\n",
    "        print(f\"  Unique values: {uniques}\\n\")\n"
   ]
  },
  {
   "cell_type": "markdown",
   "id": "830aaeaf",
   "metadata": {},
   "source": [
    "# Exploratory Data Analisis"
   ]
  },
  {
   "cell_type": "markdown",
   "id": "386abdf5",
   "metadata": {},
   "source": [
    "## CSV data initial exploration\n",
    "## Catergory CSV"
   ]
  },
  {
   "cell_type": "code",
   "execution_count": 39,
   "id": "f03bc1e5",
   "metadata": {},
   "outputs": [
    {
     "data": {
      "application/vnd.microsoft.datawrangler.viewer.v0+json": {
       "columns": [
        {
         "name": "index",
         "rawType": "int64",
         "type": "integer"
        },
        {
         "name": "id",
         "rawType": "int64",
         "type": "integer"
        },
        {
         "name": "categoria",
         "rawType": "object",
         "type": "string"
        }
       ],
       "conversionMethod": "pd.DataFrame",
       "ref": "a04a0e17-e3b6-4a64-b7ca-5b6f67c73165",
       "rows": [
        [
         "0",
         "1",
         "SCOTCH WHISKIES"
        ],
        [
         "1",
         "2",
         "STRAIGHT BOURBON WHISKIES"
        ],
        [
         "2",
         "3",
         "BLENDED WHISKIES"
        ],
        [
         "3",
         "4",
         "IMPORTED DRY GINS"
        ],
        [
         "4",
         "5",
         "DECANTERS & SPECIALTY PACKAGES"
        ],
        [
         "5",
         "6",
         "VODKA 80 PROOF"
        ],
        [
         "6",
         "7",
         "VODKA FLAVORED"
        ],
        [
         "7",
         "8",
         "PUERTO RICO & VIRGIN ISLANDS RUM"
        ],
        [
         "8",
         "9",
         "CANADIAN WHISKIES"
        ],
        [
         "9",
         "10",
         "SPICED RUM"
        ],
        [
         "10",
         "11",
         "SINGLE MALT SCOTCH"
        ],
        [
         "11",
         "12",
         "PRIVATE LABEL BRANDY"
        ],
        [
         "12",
         "13",
         "MISCELLANEOUS  BRANDIES"
        ],
        [
         "13",
         "14",
         "AMERICAN COCKTAILS"
        ],
        [
         "14",
         "15",
         "IMPORTED GRAPE BRANDIES"
        ],
        [
         "15",
         "16",
         "COFFEE LIQUEURS"
        ],
        [
         "16",
         "17",
         "AMERICAN DRY GINS"
        ],
        [
         "17",
         "18",
         "IMPORTED ALE"
        ],
        [
         "18",
         "19",
         "IMPORTED VODKA"
        ],
        [
         "19",
         "20",
         "WHISKEY LIQUEUR"
        ],
        [
         "20",
         "21",
         "PRIVATE LABEL CANADIAN WHISKY"
        ],
        [
         "21",
         "22",
         "IRISH WHISKIES"
        ],
        [
         "22",
         "23",
         "STRAIGHT RYE WHISKIES"
        ],
        [
         "23",
         "24",
         "FLAVORED RUM"
        ],
        [
         "24",
         "25",
         "SAMPLE"
        ],
        [
         "25",
         "26",
         "JAPANESE WHISKY"
        ],
        [
         "26",
         "27",
         "BOTTLED IN BOND BOURBON"
        ],
        [
         "27",
         "28",
         "MISCELLANEOUS SCHNAPPS"
        ],
        [
         "28",
         "29",
         "PRIVATE LABEL BOURBON"
        ],
        [
         "29",
         "30",
         "SINGLE BARREL BOURBON WHISKIES"
        ],
        [
         "30",
         "31",
         "DISTILLED SPIRITS SPECIALTY"
        ],
        [
         "31",
         "32",
         "TENNESSEE WHISKIES"
        ],
        [
         "32",
         "33",
         "PRIVATE LABEL BLENDED WHISKEY"
        ],
        [
         "33",
         "34",
         "MISC. AMERICAN CORDIALS & LIQUEURS"
        ],
        [
         "34",
         "35",
         "PRIVATE LABEL BLEND WHISKY"
        ],
        [
         "35",
         "36",
         "CREAM LIQUEURS"
        ],
        [
         "36",
         "37",
         "PEPPERMINT SCHNAPPS"
        ],
        [
         "37",
         "38",
         "CORN WHISKIES"
        ],
        [
         "38",
         "39",
         "AMERICAN ALCOHOL"
        ],
        [
         "39",
         "40",
         "FLAVORED GINS"
        ],
        [
         "40",
         "41",
         "PRIVATE LABEL GIN"
        ],
        [
         "41",
         "42",
         "IMPORTED VODKA - MISC"
        ],
        [
         "42",
         "43",
         "MISC. IMPORTED CORDIALS & LIQUEURS"
        ],
        [
         "43",
         "44",
         "AMERICAN SLOE GINS"
        ],
        [
         "44",
         "45",
         "TEQUILA"
        ],
        [
         "45",
         "46",
         "PRIVATE LABEL VODKA"
        ],
        [
         "46",
         "47",
         "100 PROOF VODKA"
        ],
        [
         "47",
         "48",
         "PRIVATE LABEL LOW PROOF VODKA"
        ],
        [
         "48",
         "49",
         "OTHER PROOF VODKA"
        ],
        [
         "49",
         "50",
         "LOW PROOF VODKA"
        ]
       ],
       "shape": {
        "columns": 2,
        "rows": 101
       }
      },
      "text/html": [
       "<div>\n",
       "<style scoped>\n",
       "    .dataframe tbody tr th:only-of-type {\n",
       "        vertical-align: middle;\n",
       "    }\n",
       "\n",
       "    .dataframe tbody tr th {\n",
       "        vertical-align: top;\n",
       "    }\n",
       "\n",
       "    .dataframe thead th {\n",
       "        text-align: right;\n",
       "    }\n",
       "</style>\n",
       "<table border=\"1\" class=\"dataframe\">\n",
       "  <thead>\n",
       "    <tr style=\"text-align: right;\">\n",
       "      <th></th>\n",
       "      <th>id</th>\n",
       "      <th>categoria</th>\n",
       "    </tr>\n",
       "  </thead>\n",
       "  <tbody>\n",
       "    <tr>\n",
       "      <th>0</th>\n",
       "      <td>1</td>\n",
       "      <td>SCOTCH WHISKIES</td>\n",
       "    </tr>\n",
       "    <tr>\n",
       "      <th>1</th>\n",
       "      <td>2</td>\n",
       "      <td>STRAIGHT BOURBON WHISKIES</td>\n",
       "    </tr>\n",
       "    <tr>\n",
       "      <th>2</th>\n",
       "      <td>3</td>\n",
       "      <td>BLENDED WHISKIES</td>\n",
       "    </tr>\n",
       "    <tr>\n",
       "      <th>3</th>\n",
       "      <td>4</td>\n",
       "      <td>IMPORTED DRY GINS</td>\n",
       "    </tr>\n",
       "    <tr>\n",
       "      <th>4</th>\n",
       "      <td>5</td>\n",
       "      <td>DECANTERS &amp; SPECIALTY PACKAGES</td>\n",
       "    </tr>\n",
       "    <tr>\n",
       "      <th>...</th>\n",
       "      <td>...</td>\n",
       "      <td>...</td>\n",
       "    </tr>\n",
       "    <tr>\n",
       "      <th>96</th>\n",
       "      <td>97</td>\n",
       "      <td>PRIVATE LABEL TEQUILA</td>\n",
       "    </tr>\n",
       "    <tr>\n",
       "      <th>97</th>\n",
       "      <td>98</td>\n",
       "      <td>AMARETTO - IMPORTED</td>\n",
       "    </tr>\n",
       "    <tr>\n",
       "      <th>98</th>\n",
       "      <td>99</td>\n",
       "      <td>HIGH PROOF BEER - AMERICAN</td>\n",
       "    </tr>\n",
       "    <tr>\n",
       "      <th>99</th>\n",
       "      <td>100</td>\n",
       "      <td>SPECIALTY ITEMS - SPIRITS - AME</td>\n",
       "    </tr>\n",
       "    <tr>\n",
       "      <th>100</th>\n",
       "      <td>101</td>\n",
       "      <td>IMPORTED VODKA - CHERRY</td>\n",
       "    </tr>\n",
       "  </tbody>\n",
       "</table>\n",
       "<p>101 rows × 2 columns</p>\n",
       "</div>"
      ],
      "text/plain": [
       "      id                        categoria\n",
       "0      1                  SCOTCH WHISKIES\n",
       "1      2        STRAIGHT BOURBON WHISKIES\n",
       "2      3                 BLENDED WHISKIES\n",
       "3      4                IMPORTED DRY GINS\n",
       "4      5   DECANTERS & SPECIALTY PACKAGES\n",
       "..   ...                              ...\n",
       "96    97            PRIVATE LABEL TEQUILA\n",
       "97    98              AMARETTO - IMPORTED\n",
       "98    99       HIGH PROOF BEER - AMERICAN\n",
       "99   100  SPECIALTY ITEMS - SPIRITS - AME\n",
       "100  101          IMPORTED VODKA - CHERRY\n",
       "\n",
       "[101 rows x 2 columns]"
      ]
     },
     "execution_count": 39,
     "metadata": {},
     "output_type": "execute_result"
    }
   ],
   "source": [
    "category_df = pd.read_csv(\"data/categoria.csv\")\n",
    "category_df"
   ]
  },
  {
   "cell_type": "markdown",
   "id": "88256657",
   "metadata": {},
   "source": [
    "### Statistics"
   ]
  },
  {
   "cell_type": "code",
   "execution_count": 37,
   "id": "6f2b932e",
   "metadata": {},
   "outputs": [
    {
     "data": {
      "application/vnd.microsoft.datawrangler.viewer.v0+json": {
       "columns": [
        {
         "name": "index",
         "rawType": "object",
         "type": "string"
        },
        {
         "name": "id",
         "rawType": "float64",
         "type": "float"
        }
       ],
       "conversionMethod": "pd.DataFrame",
       "ref": "1edf05b0-d025-4b60-8920-373f04ba4e77",
       "rows": [
        [
         "count",
         "101.0"
        ],
        [
         "mean",
         "51.0"
        ],
        [
         "std",
         "29.300170647967224"
        ],
        [
         "min",
         "1.0"
        ],
        [
         "25%",
         "26.0"
        ],
        [
         "50%",
         "51.0"
        ],
        [
         "75%",
         "76.0"
        ],
        [
         "max",
         "101.0"
        ]
       ],
       "shape": {
        "columns": 1,
        "rows": 8
       }
      },
      "text/html": [
       "<div>\n",
       "<style scoped>\n",
       "    .dataframe tbody tr th:only-of-type {\n",
       "        vertical-align: middle;\n",
       "    }\n",
       "\n",
       "    .dataframe tbody tr th {\n",
       "        vertical-align: top;\n",
       "    }\n",
       "\n",
       "    .dataframe thead th {\n",
       "        text-align: right;\n",
       "    }\n",
       "</style>\n",
       "<table border=\"1\" class=\"dataframe\">\n",
       "  <thead>\n",
       "    <tr style=\"text-align: right;\">\n",
       "      <th></th>\n",
       "      <th>id</th>\n",
       "    </tr>\n",
       "  </thead>\n",
       "  <tbody>\n",
       "    <tr>\n",
       "      <th>count</th>\n",
       "      <td>101.000000</td>\n",
       "    </tr>\n",
       "    <tr>\n",
       "      <th>mean</th>\n",
       "      <td>51.000000</td>\n",
       "    </tr>\n",
       "    <tr>\n",
       "      <th>std</th>\n",
       "      <td>29.300171</td>\n",
       "    </tr>\n",
       "    <tr>\n",
       "      <th>min</th>\n",
       "      <td>1.000000</td>\n",
       "    </tr>\n",
       "    <tr>\n",
       "      <th>25%</th>\n",
       "      <td>26.000000</td>\n",
       "    </tr>\n",
       "    <tr>\n",
       "      <th>50%</th>\n",
       "      <td>51.000000</td>\n",
       "    </tr>\n",
       "    <tr>\n",
       "      <th>75%</th>\n",
       "      <td>76.000000</td>\n",
       "    </tr>\n",
       "    <tr>\n",
       "      <th>max</th>\n",
       "      <td>101.000000</td>\n",
       "    </tr>\n",
       "  </tbody>\n",
       "</table>\n",
       "</div>"
      ],
      "text/plain": [
       "               id\n",
       "count  101.000000\n",
       "mean    51.000000\n",
       "std     29.300171\n",
       "min      1.000000\n",
       "25%     26.000000\n",
       "50%     51.000000\n",
       "75%     76.000000\n",
       "max    101.000000"
      ]
     },
     "execution_count": 37,
     "metadata": {},
     "output_type": "execute_result"
    }
   ],
   "source": [
    "category_df.describe()"
   ]
  },
  {
   "cell_type": "markdown",
   "id": "187568ef",
   "metadata": {},
   "source": [
    "### Data quality"
   ]
  },
  {
   "cell_type": "code",
   "execution_count": 5,
   "id": "b3aeb0cd",
   "metadata": {},
   "outputs": [
    {
     "data": {
      "image/png": "[encoded data removed]",
      "text/plain": [
       "<Figure size 800x400 with 1 Axes>"
      ]
     },
     "metadata": {},
     "output_type": "display_data"
    }
   ],
   "source": [
    "# Create boolean mask of missing values\n",
    "missing_mask_category = category_df.isnull().astype(int)\n",
    "\n",
    "# Plot the heatmap\n",
    "plt.figure(figsize=(8, 4))\n",
    "sns.heatmap(missing_mask_category, cbar=False, cmap='viridis')  # True=yellow, False=purple\n",
    "plt.title(\"Missing Values Heatmap\")\n",
    "plt.show()"
   ]
  },
  {
   "cell_type": "code",
   "execution_count": 35,
   "id": "35e5bad9",
   "metadata": {},
   "outputs": [
    {
     "data": {
      "text/plain": [
       "id           0\n",
       "categoria    0\n",
       "dtype: int64"
      ]
     },
     "execution_count": 35,
     "metadata": {},
     "output_type": "execute_result"
    }
   ],
   "source": [
    "category_df.isnull().sum()"
   ]
  },
  {
   "cell_type": "code",
   "execution_count": 36,
   "id": "11667671",
   "metadata": {},
   "outputs": [
    {
     "data": {
      "text/plain": [
       "np.int64(0)"
      ]
     },
     "execution_count": 36,
     "metadata": {},
     "output_type": "execute_result"
    }
   ],
   "source": [
    "category_df.duplicated().sum()"
   ]
  },
  {
   "cell_type": "markdown",
   "id": "e3471bd4",
   "metadata": {},
   "source": [
    "### Data types"
   ]
  },
  {
   "cell_type": "code",
   "execution_count": 38,
   "id": "7fbb6a7d",
   "metadata": {},
   "outputs": [
    {
     "data": {
      "text/plain": [
       "id            int64\n",
       "categoria    object\n",
       "dtype: object"
      ]
     },
     "execution_count": 38,
     "metadata": {},
     "output_type": "execute_result"
    }
   ],
   "source": [
    "category_df.dtypes"
   ]
  },
  {
   "cell_type": "markdown",
   "id": "f65ec978",
   "metadata": {},
   "source": [
    "## Client CSV"
   ]
  },
  {
   "cell_type": "code",
   "execution_count": 6,
   "id": "35877c3c",
   "metadata": {},
   "outputs": [
    {
     "name": "stdout",
     "output_type": "stream",
     "text": [
      "{'encoding': 'MacRoman', 'confidence': 0.6981229831235533, 'language': ''}\n"
     ]
    }
   ],
   "source": [
    "with open(\"data/cliente.csv\", \"rb\") as f:\n",
    "    data = f.read()\n",
    "\n",
    "print(chardet.detect(data))"
   ]
  },
  {
   "cell_type": "code",
   "execution_count": 7,
   "id": "c1f788af",
   "metadata": {},
   "outputs": [
    {
     "data": {
      "application/vnd.microsoft.datawrangler.viewer.v0+json": {
       "columns": [
        {
         "name": "index",
         "rawType": "int64",
         "type": "integer"
        },
        {
         "name": "id",
         "rawType": "float64",
         "type": "float"
        },
        {
         "name": "nombre",
         "rawType": "object",
         "type": "unknown"
        },
        {
         "name": "apellido",
         "rawType": "object",
         "type": "unknown"
        },
        {
         "name": "nacimiento",
         "rawType": "object",
         "type": "unknown"
        },
        {
         "name": "genero",
         "rawType": "object",
         "type": "unknown"
        },
        {
         "name": "empresa",
         "rawType": "object",
         "type": "unknown"
        },
        {
         "name": "idioma",
         "rawType": "object",
         "type": "unknown"
        },
        {
         "name": "nit",
         "rawType": "object",
         "type": "unknown"
        },
        {
         "name": "puesto",
         "rawType": "object",
         "type": "unknown"
        },
        {
         "name": "ciudad",
         "rawType": "object",
         "type": "unknown"
        },
        {
         "name": "correo",
         "rawType": "object",
         "type": "unknown"
        },
        {
         "name": "telefono",
         "rawType": "object",
         "type": "unknown"
        }
       ],
       "conversionMethod": "pd.DataFrame",
       "ref": "fb0bd9a1-53de-40db-a318-dc117c16ed28",
       "rows": [
        [
         "0",
         "599528.0",
         "Samuel",
         "Ward",
         "4/6/89",
         "Male",
         "Yakijo",
         "Marathi",
         "411-44-7088",
         "Geologist IV",
         "Wangjing",
         "sward0@tamu.edu",
         "86-(786)608-5061"
        ],
        [
         "1",
         "121688.0",
         "Willie",
         "Gonzales",
         "6/29/72",
         "Male",
         "Zoonoodle",
         "Maltese",
         "701-87-7540",
         "Programmer III",
         "El Corozo",
         "wgonzales1@apache.org",
         "58-(265)301-3397"
        ],
        [
         "2",
         "552148.0",
         "Betty",
         "Spencer",
         "9/2/83",
         "Female",
         "Youtags",
         "Dhivehi",
         "373-88-4503",
         "Engineer III",
         "Jinhua",
         "bspencer2@shutterfly.com",
         "86-(195)193-9042"
        ],
        [
         "3",
         "102019.0",
         "Beverly",
         "Jordan",
         "1/15/72",
         "Female",
         "Fivespan",
         "Hindi",
         "447-80-5871",
         "Software Test Engineer IV",
         "Salvacion",
         "bjordan3@vimeo.com",
         "63-(652)708-7688"
        ],
        [
         "4",
         "189384.0",
         "Cynthia",
         "Flores",
         "2/6/71",
         "Female",
         "Jabbersphere",
         "Tsonga",
         "803-60-8259",
         "Speech Pathologist",
         "Khorol",
         "cflores4@webeden.co.uk",
         "380-(373)389-5435"
        ],
        [
         "5",
         "350566.0",
         "Donna",
         "Hansen",
         "9/5/59",
         "Female",
         "Eazzy",
         "German",
         "980-60-6458",
         "Graphic Designer",
         "Doctor Juan LeÃ_n MallorquÃ_n",
         "dhansen5@nymag.com",
         "595-(777)710-9393"
        ],
        [
         "6",
         "404403.0",
         "Anthony",
         "Reid",
         "3/2/61",
         "Male",
         "Photolist",
         "Hiri Motu",
         "208-70-5661",
         "Mechanical Systems Engineer",
         "Mlawat",
         "areid6@nyu.edu",
         "62-(269)292-3345"
        ],
        [
         "7",
         "505565.0",
         "Sharon",
         "Webb",
         "3/30/73",
         "Female",
         "Oyoba",
         "Hindi",
         "467-72-1311",
         "Desktop Support Technician",
         "Villeta",
         "swebb7@posterous.com",
         "57-(932)286-3710"
        ],
        [
         "8",
         "945184.0",
         "Nancy",
         "Banks",
         "8/10/80",
         "Female",
         "Wikivu",
         "Swahili",
         "208-63-2112",
         "Health Coach III",
         "Kaliska",
         "nbanks8@163.com",
         "48-(284)988-8563"
        ],
        [
         "9",
         "1406787.0",
         "Stephanie",
         "Hudson",
         "1/6/91",
         "Female",
         "Agimba",
         "Chinese",
         "365-74-2748",
         "Technical Writer",
         "Thá»‹ Tráº¥n NÆ°á»›c Hai",
         "shudson9@cdbaby.com",
         "84-(468)360-5193"
        ],
        [
         "10",
         "820159.0",
         "Brenda",
         "White",
         "12/18/58",
         "Female",
         "Omba",
         "Sotho",
         "351-38-2956",
         "Health Coach I",
         "Beichengqu",
         "bwhitea@yale.edu",
         "86-(504)550-0311"
        ],
        [
         "11",
         "319880.0",
         "Ashley",
         "Burns",
         "3/12/75",
         "Female",
         "Riffpedia",
         "Amharic",
         "391-30-4830",
         "Sales Representative",
         "Pasinan Barat",
         "aburnsb@cargocollective.com",
         "62-(572)669-7048"
        ],
        [
         "12",
         "608628.0",
         "Ronald",
         "Jackson",
         "6/29/49",
         "Male",
         "Jabbercube",
         "Kyrgyz",
         "689-85-7000",
         "Assistant Manager",
         "Cipicung",
         "rjacksonc@drupal.org",
         "62-(512)503-3270"
        ],
        [
         "13",
         "956011.0",
         "Ruby",
         "Larson",
         "7/20/70",
         "Female",
         "Mydo",
         "German",
         "315-47-0904",
         "Programmer Analyst IV",
         "Salvacion",
         "rlarsond@businessinsider.com",
         "63-(809)104-3011"
        ],
        [
         "14",
         "1318394.0",
         "Jonathan",
         "Harper",
         "2/1/57",
         "Male",
         "Thoughtstorm",
         "Assamese",
         "417-00-5462",
         "Information Systems Manager",
         "Taluksangay",
         "jharpere@ucoz.com",
         "63-(252)258-0016"
        ],
        [
         "15",
         "61806.0",
         "Louis",
         "Sullivan",
         "6/18/69",
         "Male",
         "Blogspan",
         "Tswana",
         "173-76-5361",
         "Marketing Manager",
         "AsniÃ¨res-sur-Seine",
         "lsullivanf@yahoo.com",
         "33-(877)605-5009"
        ],
        [
         "16",
         "1331125.0",
         "Charles",
         "Brown",
         "1/27/59",
         "Male",
         "Zoomcast",
         "Kurdish",
         "729-75-6825",
         "Data Coordiator",
         "TsagaandÃ¶rvÃ¶lj",
         "cbrowng@disqus.com",
         "976-(850)945-3086"
        ],
        [
         "17",
         "911093.0",
         "Jimmy",
         "Day",
         "1/31/47",
         "Male",
         "Dabfeed",
         "Filipino",
         "288-18-5216",
         "Editor",
         "BÅ™ezovÃ¡",
         "jdayh@delicious.com",
         "420-(837)677-9354"
        ],
        [
         "18",
         "157419.0",
         "Sarah",
         "Mills",
         "5/28/77",
         "Female",
         "Twimbo",
         "Tswana",
         "851-39-0768",
         "Quality Engineer",
         "Sukowiryo",
         "smillsi@ted.com",
         "62-(613)147-4326"
        ],
        [
         "19",
         "1166562.0",
         "Brenda",
         "Franklin",
         "6/19/85",
         "Female",
         "Ooba",
         "MÄÅori",
         "786-40-3984",
         "Civil Engineer",
         "Guangfu",
         "bfranklinj@4shared.com",
         "86-(853)176-1270"
        ],
        [
         "20",
         "464138.0",
         "Margaret",
         "Moore",
         "7/13/79",
         "Female",
         "Skipstorm",
         "Czech",
         "745-35-1974",
         "Payment Adjustment Coordinator",
         "Isugod",
         "mmoorek@economist.com",
         "63-(600)364-8021"
        ],
        [
         "21",
         "273406.0",
         "Lisa",
         "Shaw",
         "5/25/89",
         "Female",
         "Roodel",
         "Amharic",
         "960-42-5167",
         "Administrative Officer",
         "Sussex",
         "lshawl@state.gov",
         "1-(549)101-2628"
        ],
        [
         "22",
         "1233140.0",
         "Catherine",
         "Wilson",
         "7/30/69",
         "Female",
         "Mudo",
         "Dutch",
         "513-02-3452",
         "Mechanical Systems Engineer",
         "Miskolc",
         "cwilsonm@ustream.tv",
         "36-(380)924-8756"
        ],
        [
         "23",
         "813069.0",
         "Christine",
         "Stewart",
         "12/31/55",
         "Female",
         "Voolith",
         "Thai",
         "452-58-0810",
         "Data Coordiator",
         "Pitanga",
         "cstewartn@smugmug.com",
         "55-(847)549-0329"
        ],
        [
         "24",
         "504901.0",
         "Louis",
         "Day",
         "12/22/54",
         "Male",
         "Leenti",
         "Northern Sotho",
         "789-36-5470",
         "Assistant Professor",
         "Verkhniy Baskunchak",
         "ldayo@woothemes.com",
         "7-(900)256-8223"
        ],
        [
         "25",
         "1041255.0",
         "Jesse",
         "Murray",
         "8/30/79",
         "Male",
         "Skalith",
         "Indonesian",
         "689-27-4340",
         "Technical Writer",
         "Birobidzhan",
         "jmurrayp@tuttocitta.it",
         "7-(636)611-9735"
        ],
        [
         "26",
         "328126.0",
         "Jessica",
         "Marshall",
         "6/16/51",
         "Female",
         "Zoomdog",
         "Czech",
         "917-52-0689",
         "Structural Engineer",
         "Yengiawat",
         "jmarshallq@theglobeandmail.com",
         "86-(192)943-0717"
        ],
        [
         "27",
         "497826.0",
         "Henry",
         "Hernandez",
         "10/16/44",
         "Male",
         "Cogidoo",
         "English",
         "995-37-2838",
         "Nuclear Power Engineer",
         "Siguiri",
         "hhernandezr@umich.edu",
         "224-(425)296-1073"
        ],
        [
         "28",
         "666960.0",
         "Juan",
         "Burton",
         "8/24/54",
         "Male",
         "Devify",
         "Yiddish",
         "555-36-9837",
         "Executive Secretary",
         "Dingshan",
         "jburtons@artisteer.com",
         "86-(336)712-4174"
        ],
        [
         "29",
         "1161163.0",
         "Ruby",
         "Thomas",
         "11/25/81",
         "Female",
         "Tekfly",
         "Ndebele",
         "489-02-7482",
         "Research Assistant I",
         "Jicun",
         "rthomast@sitemeter.com",
         "86-(248)830-3461"
        ],
        [
         "30",
         "1281446.0",
         "Deborah",
         "Foster",
         "2/15/46",
         "Female",
         "Realcube",
         "West Frisian",
         "295-18-9384",
         "Senior Developer",
         "Napnapan",
         "dfosteru@shop-pro.jp",
         "63-(444)632-0989"
        ],
        [
         "31",
         "217773.0",
         "Donna",
         "Foster",
         "12/12/71",
         "Female",
         "Gigaclub",
         "German",
         "286-86-7112",
         "Project Manager",
         "Mora",
         "dfosterv@examiner.com",
         "46-(388)529-2487"
        ],
        [
         "32",
         "1043433.0",
         "Ashley",
         "Garcia",
         "8/1/70",
         "Female",
         "Dabfeed",
         "Bislama",
         "935-24-0969",
         "VP Marketing",
         "Sanjinquan",
         "agarciaw@pagesperso-orange.fr",
         "86-(930)803-2795"
        ],
        [
         "33",
         "1242777.0",
         "Sharon",
         "Burton",
         "9/28/57",
         "Female",
         "Tazz",
         "Khmer",
         "341-48-4229",
         "Tax Accountant",
         "Novhorodka",
         "sburtonx@artisteer.com",
         "380-(485)206-4274"
        ],
        [
         "34",
         "826010.0",
         "Ashley",
         "Rice",
         "9/23/50",
         "Female",
         "Realpoint",
         "Tetum",
         "285-12-1415",
         "Environmental Specialist",
         "Limache",
         "aricey@dailymail.co.uk",
         "56-(710)704-0058"
        ],
        [
         "35",
         "286616.0",
         "Shawn",
         "Robertson",
         "5/24/58",
         "Male",
         "Twinder",
         "Albanian",
         "261-47-7014",
         "Editor",
         "Gandekan",
         "srobertsonz@wsj.com",
         "62-(500)488-5239"
        ],
        [
         "36",
         "1192199.0",
         "Robin",
         "Fernandez",
         "11/6/61",
         "Female",
         "Kayveo",
         "Montenegrin",
         "949-20-5433",
         "Account Representative IV",
         "Tangier",
         "rfernandez10@spiegel.de",
         "212-(502)699-8414"
        ],
        [
         "37",
         "1235292.0",
         "Steven",
         "Simpson",
         "1/25/96",
         "Male",
         "Wikido",
         "Moldovan",
         "981-39-4272",
         "Analog Circuit Design manager",
         "Shamva",
         "ssimpson11@state.gov",
         "263-(704)836-1545"
        ],
        [
         "38",
         "1236753.0",
         "Cynthia",
         "Meyer",
         "3/16/66",
         "Female",
         "Skiba",
         "Amharic",
         "712-77-9666",
         "Research Assistant II",
         "Aglalana",
         "cmeyer12@google.nl",
         "63-(155)435-9393"
        ],
        [
         "39",
         "977567.0",
         "Gerald",
         "Grant",
         "9/22/65",
         "Male",
         "Thoughtstorm",
         "Persian",
         "128-99-6835",
         "Technical Writer",
         "Mulan",
         "ggrant13@facebook.com",
         "86-(834)841-9181"
        ],
        [
         "40",
         "1252850.0",
         "Virginia",
         "Myers",
         "10/29/48",
         "Female",
         "Eamia",
         "Fijian",
         "838-98-1024",
         "Structural Engineer",
         "SakÃ©tÃ©",
         "vmyers14@creativecommons.org",
         "229-(166)878-9589"
        ],
        [
         "41",
         "34648.0",
         "Lisa",
         "Alexander",
         "4/8/91",
         "Female",
         "Meevee",
         "Chinese",
         "416-28-2357",
         "Administrative Assistant I",
         "BollÃ¨ne",
         "lalexander15@infoseek.co.jp",
         "33-(789)744-3806"
        ],
        [
         "42",
         "22090.0",
         "Denise",
         "Mason",
         "10/5/61",
         "Female",
         "Youtags",
         "Mongolian",
         "998-95-3100",
         "Senior Developer",
         "Juiz de Fora",
         "dmason16@meetup.com",
         "55-(548)359-3698"
        ],
        [
         "43",
         "396761.0",
         "Jimmy",
         "Stewart",
         "4/17/66",
         "Male",
         "Plajo",
         "Punjabi",
         "912-19-2912",
         "Developer II",
         "Dumlan",
         "jstewart17@addtoany.com",
         "63-(425)583-2922"
        ],
        [
         "44",
         "1020169.0",
         "Rose",
         "Larson",
         "6/12/96",
         "Female",
         "Brightdog",
         "Malayalam",
         "699-52-6675",
         "Legal Assistant",
         "Levandeira",
         "rlarson18@businessinsider.com",
         "351-(577)573-8883"
        ],
        [
         "45",
         "800638.0",
         "Lillian",
         "Porter",
         "8/24/65",
         "Female",
         "Centizu",
         "Malagasy",
         "354-68-5747",
         "Database Administrator IV",
         "Leskovac",
         "lporter19@businesswire.com",
         "381-(104)445-9520"
        ],
        [
         "46",
         "571258.0",
         "Karen",
         "Reed",
         "6/9/93",
         "Female",
         "Yamia",
         "Punjabi",
         "761-18-7031",
         "Technical Writer",
         "San Juan Bautista",
         "kreed1a@chicagotribune.com",
         "502-(992)913-1460"
        ],
        [
         "47",
         "1299250.0",
         "Annie",
         "Holmes",
         "9/25/88",
         "Female",
         "Twitterworks",
         "Ndebele",
         "202-38-7928",
         "Assistant Media Planner",
         "Khilok",
         "aholmes1b@businessweek.com",
         "7-(179)550-6884"
        ],
        [
         "48",
         "254621.0",
         "Carolyn",
         "Myers",
         "11/1/70",
         "Female",
         "Skimia",
         "Dzongkha",
         "906-35-4273",
         "Financial Analyst",
         "Lazaro Cardenas",
         "cmyers1c@goodreads.com",
         "52-(321)837-7741"
        ],
        [
         "49",
         "291283.0",
         "Janice",
         "Carroll",
         "7/3/73",
         "Female",
         "Photojam",
         "Haitian Creole",
         "136-27-4932",
         "Junior Executive",
         "Khallat Å_ÄÅliá¸©",
         "jcarroll1d@desdev.cn",
         "970-(718)913-3710"
        ]
       ],
       "shape": {
        "columns": 12,
        "rows": 12000
       }
      },
      "text/html": [
       "<div>\n",
       "<style scoped>\n",
       "    .dataframe tbody tr th:only-of-type {\n",
       "        vertical-align: middle;\n",
       "    }\n",
       "\n",
       "    .dataframe tbody tr th {\n",
       "        vertical-align: top;\n",
       "    }\n",
       "\n",
       "    .dataframe thead th {\n",
       "        text-align: right;\n",
       "    }\n",
       "</style>\n",
       "<table border=\"1\" class=\"dataframe\">\n",
       "  <thead>\n",
       "    <tr style=\"text-align: right;\">\n",
       "      <th></th>\n",
       "      <th>id</th>\n",
       "      <th>nombre</th>\n",
       "      <th>apellido</th>\n",
       "      <th>nacimiento</th>\n",
       "      <th>genero</th>\n",
       "      <th>empresa</th>\n",
       "      <th>idioma</th>\n",
       "      <th>nit</th>\n",
       "      <th>puesto</th>\n",
       "      <th>ciudad</th>\n",
       "      <th>correo</th>\n",
       "      <th>telefono</th>\n",
       "    </tr>\n",
       "  </thead>\n",
       "  <tbody>\n",
       "    <tr>\n",
       "      <th>0</th>\n",
       "      <td>599528.0</td>\n",
       "      <td>Samuel</td>\n",
       "      <td>Ward</td>\n",
       "      <td>4/6/89</td>\n",
       "      <td>Male</td>\n",
       "      <td>Yakijo</td>\n",
       "      <td>Marathi</td>\n",
       "      <td>411-44-7088</td>\n",
       "      <td>Geologist IV</td>\n",
       "      <td>Wangjing</td>\n",
       "      <td>sward0@tamu.edu</td>\n",
       "      <td>86-(786)608-5061</td>\n",
       "    </tr>\n",
       "    <tr>\n",
       "      <th>1</th>\n",
       "      <td>121688.0</td>\n",
       "      <td>Willie</td>\n",
       "      <td>Gonzales</td>\n",
       "      <td>6/29/72</td>\n",
       "      <td>Male</td>\n",
       "      <td>Zoonoodle</td>\n",
       "      <td>Maltese</td>\n",
       "      <td>701-87-7540</td>\n",
       "      <td>Programmer III</td>\n",
       "      <td>El Corozo</td>\n",
       "      <td>wgonzales1@apache.org</td>\n",
       "      <td>58-(265)301-3397</td>\n",
       "    </tr>\n",
       "    <tr>\n",
       "      <th>2</th>\n",
       "      <td>552148.0</td>\n",
       "      <td>Betty</td>\n",
       "      <td>Spencer</td>\n",
       "      <td>9/2/83</td>\n",
       "      <td>Female</td>\n",
       "      <td>Youtags</td>\n",
       "      <td>Dhivehi</td>\n",
       "      <td>373-88-4503</td>\n",
       "      <td>Engineer III</td>\n",
       "      <td>Jinhua</td>\n",
       "      <td>bspencer2@shutterfly.com</td>\n",
       "      <td>86-(195)193-9042</td>\n",
       "    </tr>\n",
       "    <tr>\n",
       "      <th>3</th>\n",
       "      <td>102019.0</td>\n",
       "      <td>Beverly</td>\n",
       "      <td>Jordan</td>\n",
       "      <td>1/15/72</td>\n",
       "      <td>Female</td>\n",
       "      <td>Fivespan</td>\n",
       "      <td>Hindi</td>\n",
       "      <td>447-80-5871</td>\n",
       "      <td>Software Test Engineer IV</td>\n",
       "      <td>Salvacion</td>\n",
       "      <td>bjordan3@vimeo.com</td>\n",
       "      <td>63-(652)708-7688</td>\n",
       "    </tr>\n",
       "    <tr>\n",
       "      <th>4</th>\n",
       "      <td>189384.0</td>\n",
       "      <td>Cynthia</td>\n",
       "      <td>Flores</td>\n",
       "      <td>2/6/71</td>\n",
       "      <td>Female</td>\n",
       "      <td>Jabbersphere</td>\n",
       "      <td>Tsonga</td>\n",
       "      <td>803-60-8259</td>\n",
       "      <td>Speech Pathologist</td>\n",
       "      <td>Khorol</td>\n",
       "      <td>cflores4@webeden.co.uk</td>\n",
       "      <td>380-(373)389-5435</td>\n",
       "    </tr>\n",
       "    <tr>\n",
       "      <th>...</th>\n",
       "      <td>...</td>\n",
       "      <td>...</td>\n",
       "      <td>...</td>\n",
       "      <td>...</td>\n",
       "      <td>...</td>\n",
       "      <td>...</td>\n",
       "      <td>...</td>\n",
       "      <td>...</td>\n",
       "      <td>...</td>\n",
       "      <td>...</td>\n",
       "      <td>...</td>\n",
       "      <td>...</td>\n",
       "    </tr>\n",
       "    <tr>\n",
       "      <th>11995</th>\n",
       "      <td>NaN</td>\n",
       "      <td>NaN</td>\n",
       "      <td>NaN</td>\n",
       "      <td>NaN</td>\n",
       "      <td>NaN</td>\n",
       "      <td>NaN</td>\n",
       "      <td>NaN</td>\n",
       "      <td>NaN</td>\n",
       "      <td>NaN</td>\n",
       "      <td>NaN</td>\n",
       "      <td>NaN</td>\n",
       "      <td>NaN</td>\n",
       "    </tr>\n",
       "    <tr>\n",
       "      <th>11996</th>\n",
       "      <td>NaN</td>\n",
       "      <td>NaN</td>\n",
       "      <td>NaN</td>\n",
       "      <td>NaN</td>\n",
       "      <td>NaN</td>\n",
       "      <td>NaN</td>\n",
       "      <td>NaN</td>\n",
       "      <td>NaN</td>\n",
       "      <td>NaN</td>\n",
       "      <td>NaN</td>\n",
       "      <td>NaN</td>\n",
       "      <td>NaN</td>\n",
       "    </tr>\n",
       "    <tr>\n",
       "      <th>11997</th>\n",
       "      <td>NaN</td>\n",
       "      <td>NaN</td>\n",
       "      <td>NaN</td>\n",
       "      <td>NaN</td>\n",
       "      <td>NaN</td>\n",
       "      <td>NaN</td>\n",
       "      <td>NaN</td>\n",
       "      <td>NaN</td>\n",
       "      <td>NaN</td>\n",
       "      <td>NaN</td>\n",
       "      <td>NaN</td>\n",
       "      <td>NaN</td>\n",
       "    </tr>\n",
       "    <tr>\n",
       "      <th>11998</th>\n",
       "      <td>NaN</td>\n",
       "      <td>NaN</td>\n",
       "      <td>NaN</td>\n",
       "      <td>NaN</td>\n",
       "      <td>NaN</td>\n",
       "      <td>NaN</td>\n",
       "      <td>NaN</td>\n",
       "      <td>NaN</td>\n",
       "      <td>NaN</td>\n",
       "      <td>NaN</td>\n",
       "      <td>NaN</td>\n",
       "      <td>NaN</td>\n",
       "    </tr>\n",
       "    <tr>\n",
       "      <th>11999</th>\n",
       "      <td>NaN</td>\n",
       "      <td>NaN</td>\n",
       "      <td>NaN</td>\n",
       "      <td>NaN</td>\n",
       "      <td>NaN</td>\n",
       "      <td>NaN</td>\n",
       "      <td>NaN</td>\n",
       "      <td>NaN</td>\n",
       "      <td>NaN</td>\n",
       "      <td>NaN</td>\n",
       "      <td>NaN</td>\n",
       "      <td>NaN</td>\n",
       "    </tr>\n",
       "  </tbody>\n",
       "</table>\n",
       "<p>12000 rows × 12 columns</p>\n",
       "</div>"
      ],
      "text/plain": [
       "             id   nombre  apellido nacimiento  genero       empresa   idioma  \\\n",
       "0      599528.0   Samuel      Ward     4/6/89    Male        Yakijo  Marathi   \n",
       "1      121688.0   Willie  Gonzales    6/29/72    Male     Zoonoodle  Maltese   \n",
       "2      552148.0    Betty   Spencer     9/2/83  Female       Youtags  Dhivehi   \n",
       "3      102019.0  Beverly    Jordan    1/15/72  Female      Fivespan    Hindi   \n",
       "4      189384.0  Cynthia    Flores     2/6/71  Female  Jabbersphere   Tsonga   \n",
       "...         ...      ...       ...        ...     ...           ...      ...   \n",
       "11995       NaN      NaN       NaN        NaN     NaN           NaN      NaN   \n",
       "11996       NaN      NaN       NaN        NaN     NaN           NaN      NaN   \n",
       "11997       NaN      NaN       NaN        NaN     NaN           NaN      NaN   \n",
       "11998       NaN      NaN       NaN        NaN     NaN           NaN      NaN   \n",
       "11999       NaN      NaN       NaN        NaN     NaN           NaN      NaN   \n",
       "\n",
       "               nit                     puesto     ciudad  \\\n",
       "0      411-44-7088               Geologist IV   Wangjing   \n",
       "1      701-87-7540             Programmer III  El Corozo   \n",
       "2      373-88-4503               Engineer III     Jinhua   \n",
       "3      447-80-5871  Software Test Engineer IV  Salvacion   \n",
       "4      803-60-8259         Speech Pathologist     Khorol   \n",
       "...            ...                        ...        ...   \n",
       "11995          NaN                        NaN        NaN   \n",
       "11996          NaN                        NaN        NaN   \n",
       "11997          NaN                        NaN        NaN   \n",
       "11998          NaN                        NaN        NaN   \n",
       "11999          NaN                        NaN        NaN   \n",
       "\n",
       "                         correo           telefono  \n",
       "0               sward0@tamu.edu   86-(786)608-5061  \n",
       "1         wgonzales1@apache.org   58-(265)301-3397  \n",
       "2      bspencer2@shutterfly.com   86-(195)193-9042  \n",
       "3            bjordan3@vimeo.com   63-(652)708-7688  \n",
       "4        cflores4@webeden.co.uk  380-(373)389-5435  \n",
       "...                         ...                ...  \n",
       "11995                       NaN                NaN  \n",
       "11996                       NaN                NaN  \n",
       "11997                       NaN                NaN  \n",
       "11998                       NaN                NaN  \n",
       "11999                       NaN                NaN  \n",
       "\n",
       "[12000 rows x 12 columns]"
      ]
     },
     "execution_count": 7,
     "metadata": {},
     "output_type": "execute_result"
    }
   ],
   "source": [
    "client_df = pd.read_csv(\"data/cliente.csv\", encoding=\"MacRoman\")\n",
    "client_df"
   ]
  },
  {
   "cell_type": "code",
   "execution_count": 8,
   "id": "844359ab",
   "metadata": {},
   "outputs": [
    {
     "name": "stderr",
     "output_type": "stream",
     "text": [
      "/var/folders/hx/y8xsfw254qj_h_vj_1f6p8kw0000gn/T/ipykernel_56745/2902310671.py:1: FutureWarning: DataFrame.applymap has been deprecated. Use DataFrame.map instead.\n",
      "  client_df = client_df.applymap(remove_accents)\n"
     ]
    },
    {
     "data": {
      "application/vnd.microsoft.datawrangler.viewer.v0+json": {
       "columns": [
        {
         "name": "index",
         "rawType": "int64",
         "type": "integer"
        },
        {
         "name": "id",
         "rawType": "float64",
         "type": "float"
        },
        {
         "name": "nombre",
         "rawType": "object",
         "type": "unknown"
        },
        {
         "name": "apellido",
         "rawType": "object",
         "type": "unknown"
        },
        {
         "name": "nacimiento",
         "rawType": "object",
         "type": "unknown"
        },
        {
         "name": "genero",
         "rawType": "object",
         "type": "unknown"
        },
        {
         "name": "empresa",
         "rawType": "object",
         "type": "unknown"
        },
        {
         "name": "idioma",
         "rawType": "object",
         "type": "unknown"
        },
        {
         "name": "nit",
         "rawType": "object",
         "type": "unknown"
        },
        {
         "name": "puesto",
         "rawType": "object",
         "type": "unknown"
        },
        {
         "name": "ciudad",
         "rawType": "object",
         "type": "unknown"
        },
        {
         "name": "correo",
         "rawType": "object",
         "type": "unknown"
        },
        {
         "name": "telefono",
         "rawType": "object",
         "type": "unknown"
        }
       ],
       "conversionMethod": "pd.DataFrame",
       "ref": "4930b5af-2ac7-4481-893c-7d2051c01f0f",
       "rows": [
        [
         "0",
         "599528.0",
         "Samuel",
         "Ward",
         "4/6/89",
         "Male",
         "Yakijo",
         "Marathi",
         "411-44-7088",
         "Geologist IV",
         "Wangjing",
         "sward0@tamu.edu",
         "86-(786)608-5061"
        ],
        [
         "1",
         "121688.0",
         "Willie",
         "Gonzales",
         "6/29/72",
         "Male",
         "Zoonoodle",
         "Maltese",
         "701-87-7540",
         "Programmer III",
         "El Corozo",
         "wgonzales1@apache.org",
         "58-(265)301-3397"
        ],
        [
         "2",
         "552148.0",
         "Betty",
         "Spencer",
         "9/2/83",
         "Female",
         "Youtags",
         "Dhivehi",
         "373-88-4503",
         "Engineer III",
         "Jinhua",
         "bspencer2@shutterfly.com",
         "86-(195)193-9042"
        ],
        [
         "3",
         "102019.0",
         "Beverly",
         "Jordan",
         "1/15/72",
         "Female",
         "Fivespan",
         "Hindi",
         "447-80-5871",
         "Software Test Engineer IV",
         "Salvacion",
         "bjordan3@vimeo.com",
         "63-(652)708-7688"
        ],
        [
         "4",
         "189384.0",
         "Cynthia",
         "Flores",
         "2/6/71",
         "Female",
         "Jabbersphere",
         "Tsonga",
         "803-60-8259",
         "Speech Pathologist",
         "Khorol",
         "cflores4@webeden.co.uk",
         "380-(373)389-5435"
        ],
        [
         "5",
         "350566.0",
         "Donna",
         "Hansen",
         "9/5/59",
         "Female",
         "Eazzy",
         "German",
         "980-60-6458",
         "Graphic Designer",
         "Doctor Juan LeA_n MallorquA_n",
         "dhansen5@nymag.com",
         "595-(777)710-9393"
        ],
        [
         "6",
         "404403.0",
         "Anthony",
         "Reid",
         "3/2/61",
         "Male",
         "Photolist",
         "Hiri Motu",
         "208-70-5661",
         "Mechanical Systems Engineer",
         "Mlawat",
         "areid6@nyu.edu",
         "62-(269)292-3345"
        ],
        [
         "7",
         "505565.0",
         "Sharon",
         "Webb",
         "3/30/73",
         "Female",
         "Oyoba",
         "Hindi",
         "467-72-1311",
         "Desktop Support Technician",
         "Villeta",
         "swebb7@posterous.com",
         "57-(932)286-3710"
        ],
        [
         "8",
         "945184.0",
         "Nancy",
         "Banks",
         "8/10/80",
         "Female",
         "Wikivu",
         "Swahili",
         "208-63-2112",
         "Health Coach III",
         "Kaliska",
         "nbanks8@163.com",
         "48-(284)988-8563"
        ],
        [
         "9",
         "1406787.0",
         "Stephanie",
         "Hudson",
         "1/6/91",
         "Female",
         "Agimba",
         "Chinese",
         "365-74-2748",
         "Technical Writer",
         "Tha»‹ Trao¥n NÆ°a»›c Hai",
         "shudson9@cdbaby.com",
         "84-(468)360-5193"
        ],
        [
         "10",
         "820159.0",
         "Brenda",
         "White",
         "12/18/58",
         "Female",
         "Omba",
         "Sotho",
         "351-38-2956",
         "Health Coach I",
         "Beichengqu",
         "bwhitea@yale.edu",
         "86-(504)550-0311"
        ],
        [
         "11",
         "319880.0",
         "Ashley",
         "Burns",
         "3/12/75",
         "Female",
         "Riffpedia",
         "Amharic",
         "391-30-4830",
         "Sales Representative",
         "Pasinan Barat",
         "aburnsb@cargocollective.com",
         "62-(572)669-7048"
        ],
        [
         "12",
         "608628.0",
         "Ronald",
         "Jackson",
         "6/29/49",
         "Male",
         "Jabbercube",
         "Kyrgyz",
         "689-85-7000",
         "Assistant Manager",
         "Cipicung",
         "rjacksonc@drupal.org",
         "62-(512)503-3270"
        ],
        [
         "13",
         "956011.0",
         "Ruby",
         "Larson",
         "7/20/70",
         "Female",
         "Mydo",
         "German",
         "315-47-0904",
         "Programmer Analyst IV",
         "Salvacion",
         "rlarsond@businessinsider.com",
         "63-(809)104-3011"
        ],
        [
         "14",
         "1318394.0",
         "Jonathan",
         "Harper",
         "2/1/57",
         "Male",
         "Thoughtstorm",
         "Assamese",
         "417-00-5462",
         "Information Systems Manager",
         "Taluksangay",
         "jharpere@ucoz.com",
         "63-(252)258-0016"
        ],
        [
         "15",
         "61806.0",
         "Louis",
         "Sullivan",
         "6/18/69",
         "Male",
         "Blogspan",
         "Tswana",
         "173-76-5361",
         "Marketing Manager",
         "AsniA res-sur-Seine",
         "lsullivanf@yahoo.com",
         "33-(877)605-5009"
        ],
        [
         "16",
         "1331125.0",
         "Charles",
         "Brown",
         "1/27/59",
         "Male",
         "Zoomcast",
         "Kurdish",
         "729-75-6825",
         "Data Coordiator",
         "TsagaandA¶rvA¶lj",
         "cbrowng@disqus.com",
         "976-(850)945-3086"
        ],
        [
         "17",
         "911093.0",
         "Jimmy",
         "Day",
         "1/31/47",
         "Male",
         "Dabfeed",
         "Filipino",
         "288-18-5216",
         "Editor",
         "BATMezovA¡",
         "jdayh@delicious.com",
         "420-(837)677-9354"
        ],
        [
         "18",
         "157419.0",
         "Sarah",
         "Mills",
         "5/28/77",
         "Female",
         "Twimbo",
         "Tswana",
         "851-39-0768",
         "Quality Engineer",
         "Sukowiryo",
         "smillsi@ted.com",
         "62-(613)147-4326"
        ],
        [
         "19",
         "1166562.0",
         "Brenda",
         "Franklin",
         "6/19/85",
         "Female",
         "Ooba",
         "MAAori",
         "786-40-3984",
         "Civil Engineer",
         "Guangfu",
         "bfranklinj@4shared.com",
         "86-(853)176-1270"
        ],
        [
         "20",
         "464138.0",
         "Margaret",
         "Moore",
         "7/13/79",
         "Female",
         "Skipstorm",
         "Czech",
         "745-35-1974",
         "Payment Adjustment Coordinator",
         "Isugod",
         "mmoorek@economist.com",
         "63-(600)364-8021"
        ],
        [
         "21",
         "273406.0",
         "Lisa",
         "Shaw",
         "5/25/89",
         "Female",
         "Roodel",
         "Amharic",
         "960-42-5167",
         "Administrative Officer",
         "Sussex",
         "lshawl@state.gov",
         "1-(549)101-2628"
        ],
        [
         "22",
         "1233140.0",
         "Catherine",
         "Wilson",
         "7/30/69",
         "Female",
         "Mudo",
         "Dutch",
         "513-02-3452",
         "Mechanical Systems Engineer",
         "Miskolc",
         "cwilsonm@ustream.tv",
         "36-(380)924-8756"
        ],
        [
         "23",
         "813069.0",
         "Christine",
         "Stewart",
         "12/31/55",
         "Female",
         "Voolith",
         "Thai",
         "452-58-0810",
         "Data Coordiator",
         "Pitanga",
         "cstewartn@smugmug.com",
         "55-(847)549-0329"
        ],
        [
         "24",
         "504901.0",
         "Louis",
         "Day",
         "12/22/54",
         "Male",
         "Leenti",
         "Northern Sotho",
         "789-36-5470",
         "Assistant Professor",
         "Verkhniy Baskunchak",
         "ldayo@woothemes.com",
         "7-(900)256-8223"
        ],
        [
         "25",
         "1041255.0",
         "Jesse",
         "Murray",
         "8/30/79",
         "Male",
         "Skalith",
         "Indonesian",
         "689-27-4340",
         "Technical Writer",
         "Birobidzhan",
         "jmurrayp@tuttocitta.it",
         "7-(636)611-9735"
        ],
        [
         "26",
         "328126.0",
         "Jessica",
         "Marshall",
         "6/16/51",
         "Female",
         "Zoomdog",
         "Czech",
         "917-52-0689",
         "Structural Engineer",
         "Yengiawat",
         "jmarshallq@theglobeandmail.com",
         "86-(192)943-0717"
        ],
        [
         "27",
         "497826.0",
         "Henry",
         "Hernandez",
         "10/16/44",
         "Male",
         "Cogidoo",
         "English",
         "995-37-2838",
         "Nuclear Power Engineer",
         "Siguiri",
         "hhernandezr@umich.edu",
         "224-(425)296-1073"
        ],
        [
         "28",
         "666960.0",
         "Juan",
         "Burton",
         "8/24/54",
         "Male",
         "Devify",
         "Yiddish",
         "555-36-9837",
         "Executive Secretary",
         "Dingshan",
         "jburtons@artisteer.com",
         "86-(336)712-4174"
        ],
        [
         "29",
         "1161163.0",
         "Ruby",
         "Thomas",
         "11/25/81",
         "Female",
         "Tekfly",
         "Ndebele",
         "489-02-7482",
         "Research Assistant I",
         "Jicun",
         "rthomast@sitemeter.com",
         "86-(248)830-3461"
        ],
        [
         "30",
         "1281446.0",
         "Deborah",
         "Foster",
         "2/15/46",
         "Female",
         "Realcube",
         "West Frisian",
         "295-18-9384",
         "Senior Developer",
         "Napnapan",
         "dfosteru@shop-pro.jp",
         "63-(444)632-0989"
        ],
        [
         "31",
         "217773.0",
         "Donna",
         "Foster",
         "12/12/71",
         "Female",
         "Gigaclub",
         "German",
         "286-86-7112",
         "Project Manager",
         "Mora",
         "dfosterv@examiner.com",
         "46-(388)529-2487"
        ],
        [
         "32",
         "1043433.0",
         "Ashley",
         "Garcia",
         "8/1/70",
         "Female",
         "Dabfeed",
         "Bislama",
         "935-24-0969",
         "VP Marketing",
         "Sanjinquan",
         "agarciaw@pagesperso-orange.fr",
         "86-(930)803-2795"
        ],
        [
         "33",
         "1242777.0",
         "Sharon",
         "Burton",
         "9/28/57",
         "Female",
         "Tazz",
         "Khmer",
         "341-48-4229",
         "Tax Accountant",
         "Novhorodka",
         "sburtonx@artisteer.com",
         "380-(485)206-4274"
        ],
        [
         "34",
         "826010.0",
         "Ashley",
         "Rice",
         "9/23/50",
         "Female",
         "Realpoint",
         "Tetum",
         "285-12-1415",
         "Environmental Specialist",
         "Limache",
         "aricey@dailymail.co.uk",
         "56-(710)704-0058"
        ],
        [
         "35",
         "286616.0",
         "Shawn",
         "Robertson",
         "5/24/58",
         "Male",
         "Twinder",
         "Albanian",
         "261-47-7014",
         "Editor",
         "Gandekan",
         "srobertsonz@wsj.com",
         "62-(500)488-5239"
        ],
        [
         "36",
         "1192199.0",
         "Robin",
         "Fernandez",
         "11/6/61",
         "Female",
         "Kayveo",
         "Montenegrin",
         "949-20-5433",
         "Account Representative IV",
         "Tangier",
         "rfernandez10@spiegel.de",
         "212-(502)699-8414"
        ],
        [
         "37",
         "1235292.0",
         "Steven",
         "Simpson",
         "1/25/96",
         "Male",
         "Wikido",
         "Moldovan",
         "981-39-4272",
         "Analog Circuit Design manager",
         "Shamva",
         "ssimpson11@state.gov",
         "263-(704)836-1545"
        ],
        [
         "38",
         "1236753.0",
         "Cynthia",
         "Meyer",
         "3/16/66",
         "Female",
         "Skiba",
         "Amharic",
         "712-77-9666",
         "Research Assistant II",
         "Aglalana",
         "cmeyer12@google.nl",
         "63-(155)435-9393"
        ],
        [
         "39",
         "977567.0",
         "Gerald",
         "Grant",
         "9/22/65",
         "Male",
         "Thoughtstorm",
         "Persian",
         "128-99-6835",
         "Technical Writer",
         "Mulan",
         "ggrant13@facebook.com",
         "86-(834)841-9181"
        ],
        [
         "40",
         "1252850.0",
         "Virginia",
         "Myers",
         "10/29/48",
         "Female",
         "Eamia",
         "Fijian",
         "838-98-1024",
         "Structural Engineer",
         "SakA©tA©",
         "vmyers14@creativecommons.org",
         "229-(166)878-9589"
        ],
        [
         "41",
         "34648.0",
         "Lisa",
         "Alexander",
         "4/8/91",
         "Female",
         "Meevee",
         "Chinese",
         "416-28-2357",
         "Administrative Assistant I",
         "BollA ne",
         "lalexander15@infoseek.co.jp",
         "33-(789)744-3806"
        ],
        [
         "42",
         "22090.0",
         "Denise",
         "Mason",
         "10/5/61",
         "Female",
         "Youtags",
         "Mongolian",
         "998-95-3100",
         "Senior Developer",
         "Juiz de Fora",
         "dmason16@meetup.com",
         "55-(548)359-3698"
        ],
        [
         "43",
         "396761.0",
         "Jimmy",
         "Stewart",
         "4/17/66",
         "Male",
         "Plajo",
         "Punjabi",
         "912-19-2912",
         "Developer II",
         "Dumlan",
         "jstewart17@addtoany.com",
         "63-(425)583-2922"
        ],
        [
         "44",
         "1020169.0",
         "Rose",
         "Larson",
         "6/12/96",
         "Female",
         "Brightdog",
         "Malayalam",
         "699-52-6675",
         "Legal Assistant",
         "Levandeira",
         "rlarson18@businessinsider.com",
         "351-(577)573-8883"
        ],
        [
         "45",
         "800638.0",
         "Lillian",
         "Porter",
         "8/24/65",
         "Female",
         "Centizu",
         "Malagasy",
         "354-68-5747",
         "Database Administrator IV",
         "Leskovac",
         "lporter19@businesswire.com",
         "381-(104)445-9520"
        ],
        [
         "46",
         "571258.0",
         "Karen",
         "Reed",
         "6/9/93",
         "Female",
         "Yamia",
         "Punjabi",
         "761-18-7031",
         "Technical Writer",
         "San Juan Bautista",
         "kreed1a@chicagotribune.com",
         "502-(992)913-1460"
        ],
        [
         "47",
         "1299250.0",
         "Annie",
         "Holmes",
         "9/25/88",
         "Female",
         "Twitterworks",
         "Ndebele",
         "202-38-7928",
         "Assistant Media Planner",
         "Khilok",
         "aholmes1b@businessweek.com",
         "7-(179)550-6884"
        ],
        [
         "48",
         "254621.0",
         "Carolyn",
         "Myers",
         "11/1/70",
         "Female",
         "Skimia",
         "Dzongkha",
         "906-35-4273",
         "Financial Analyst",
         "Lazaro Cardenas",
         "cmyers1c@goodreads.com",
         "52-(321)837-7741"
        ],
        [
         "49",
         "291283.0",
         "Janice",
         "Carroll",
         "7/3/73",
         "Female",
         "Photojam",
         "Haitian Creole",
         "136-27-4932",
         "Junior Executive",
         "Khallat A_AAlia ©",
         "jcarroll1d@desdev.cn",
         "970-(718)913-3710"
        ]
       ],
       "shape": {
        "columns": 12,
        "rows": 12000
       }
      },
      "text/html": [
       "<div>\n",
       "<style scoped>\n",
       "    .dataframe tbody tr th:only-of-type {\n",
       "        vertical-align: middle;\n",
       "    }\n",
       "\n",
       "    .dataframe tbody tr th {\n",
       "        vertical-align: top;\n",
       "    }\n",
       "\n",
       "    .dataframe thead th {\n",
       "        text-align: right;\n",
       "    }\n",
       "</style>\n",
       "<table border=\"1\" class=\"dataframe\">\n",
       "  <thead>\n",
       "    <tr style=\"text-align: right;\">\n",
       "      <th></th>\n",
       "      <th>id</th>\n",
       "      <th>nombre</th>\n",
       "      <th>apellido</th>\n",
       "      <th>nacimiento</th>\n",
       "      <th>genero</th>\n",
       "      <th>empresa</th>\n",
       "      <th>idioma</th>\n",
       "      <th>nit</th>\n",
       "      <th>puesto</th>\n",
       "      <th>ciudad</th>\n",
       "      <th>correo</th>\n",
       "      <th>telefono</th>\n",
       "    </tr>\n",
       "  </thead>\n",
       "  <tbody>\n",
       "    <tr>\n",
       "      <th>0</th>\n",
       "      <td>599528.0</td>\n",
       "      <td>Samuel</td>\n",
       "      <td>Ward</td>\n",
       "      <td>4/6/89</td>\n",
       "      <td>Male</td>\n",
       "      <td>Yakijo</td>\n",
       "      <td>Marathi</td>\n",
       "      <td>411-44-7088</td>\n",
       "      <td>Geologist IV</td>\n",
       "      <td>Wangjing</td>\n",
       "      <td>sward0@tamu.edu</td>\n",
       "      <td>86-(786)608-5061</td>\n",
       "    </tr>\n",
       "    <tr>\n",
       "      <th>1</th>\n",
       "      <td>121688.0</td>\n",
       "      <td>Willie</td>\n",
       "      <td>Gonzales</td>\n",
       "      <td>6/29/72</td>\n",
       "      <td>Male</td>\n",
       "      <td>Zoonoodle</td>\n",
       "      <td>Maltese</td>\n",
       "      <td>701-87-7540</td>\n",
       "      <td>Programmer III</td>\n",
       "      <td>El Corozo</td>\n",
       "      <td>wgonzales1@apache.org</td>\n",
       "      <td>58-(265)301-3397</td>\n",
       "    </tr>\n",
       "    <tr>\n",
       "      <th>2</th>\n",
       "      <td>552148.0</td>\n",
       "      <td>Betty</td>\n",
       "      <td>Spencer</td>\n",
       "      <td>9/2/83</td>\n",
       "      <td>Female</td>\n",
       "      <td>Youtags</td>\n",
       "      <td>Dhivehi</td>\n",
       "      <td>373-88-4503</td>\n",
       "      <td>Engineer III</td>\n",
       "      <td>Jinhua</td>\n",
       "      <td>bspencer2@shutterfly.com</td>\n",
       "      <td>86-(195)193-9042</td>\n",
       "    </tr>\n",
       "    <tr>\n",
       "      <th>3</th>\n",
       "      <td>102019.0</td>\n",
       "      <td>Beverly</td>\n",
       "      <td>Jordan</td>\n",
       "      <td>1/15/72</td>\n",
       "      <td>Female</td>\n",
       "      <td>Fivespan</td>\n",
       "      <td>Hindi</td>\n",
       "      <td>447-80-5871</td>\n",
       "      <td>Software Test Engineer IV</td>\n",
       "      <td>Salvacion</td>\n",
       "      <td>bjordan3@vimeo.com</td>\n",
       "      <td>63-(652)708-7688</td>\n",
       "    </tr>\n",
       "    <tr>\n",
       "      <th>4</th>\n",
       "      <td>189384.0</td>\n",
       "      <td>Cynthia</td>\n",
       "      <td>Flores</td>\n",
       "      <td>2/6/71</td>\n",
       "      <td>Female</td>\n",
       "      <td>Jabbersphere</td>\n",
       "      <td>Tsonga</td>\n",
       "      <td>803-60-8259</td>\n",
       "      <td>Speech Pathologist</td>\n",
       "      <td>Khorol</td>\n",
       "      <td>cflores4@webeden.co.uk</td>\n",
       "      <td>380-(373)389-5435</td>\n",
       "    </tr>\n",
       "    <tr>\n",
       "      <th>...</th>\n",
       "      <td>...</td>\n",
       "      <td>...</td>\n",
       "      <td>...</td>\n",
       "      <td>...</td>\n",
       "      <td>...</td>\n",
       "      <td>...</td>\n",
       "      <td>...</td>\n",
       "      <td>...</td>\n",
       "      <td>...</td>\n",
       "      <td>...</td>\n",
       "      <td>...</td>\n",
       "      <td>...</td>\n",
       "    </tr>\n",
       "    <tr>\n",
       "      <th>11995</th>\n",
       "      <td>NaN</td>\n",
       "      <td>NaN</td>\n",
       "      <td>NaN</td>\n",
       "      <td>NaN</td>\n",
       "      <td>NaN</td>\n",
       "      <td>NaN</td>\n",
       "      <td>NaN</td>\n",
       "      <td>NaN</td>\n",
       "      <td>NaN</td>\n",
       "      <td>NaN</td>\n",
       "      <td>NaN</td>\n",
       "      <td>NaN</td>\n",
       "    </tr>\n",
       "    <tr>\n",
       "      <th>11996</th>\n",
       "      <td>NaN</td>\n",
       "      <td>NaN</td>\n",
       "      <td>NaN</td>\n",
       "      <td>NaN</td>\n",
       "      <td>NaN</td>\n",
       "      <td>NaN</td>\n",
       "      <td>NaN</td>\n",
       "      <td>NaN</td>\n",
       "      <td>NaN</td>\n",
       "      <td>NaN</td>\n",
       "      <td>NaN</td>\n",
       "      <td>NaN</td>\n",
       "    </tr>\n",
       "    <tr>\n",
       "      <th>11997</th>\n",
       "      <td>NaN</td>\n",
       "      <td>NaN</td>\n",
       "      <td>NaN</td>\n",
       "      <td>NaN</td>\n",
       "      <td>NaN</td>\n",
       "      <td>NaN</td>\n",
       "      <td>NaN</td>\n",
       "      <td>NaN</td>\n",
       "      <td>NaN</td>\n",
       "      <td>NaN</td>\n",
       "      <td>NaN</td>\n",
       "      <td>NaN</td>\n",
       "    </tr>\n",
       "    <tr>\n",
       "      <th>11998</th>\n",
       "      <td>NaN</td>\n",
       "      <td>NaN</td>\n",
       "      <td>NaN</td>\n",
       "      <td>NaN</td>\n",
       "      <td>NaN</td>\n",
       "      <td>NaN</td>\n",
       "      <td>NaN</td>\n",
       "      <td>NaN</td>\n",
       "      <td>NaN</td>\n",
       "      <td>NaN</td>\n",
       "      <td>NaN</td>\n",
       "      <td>NaN</td>\n",
       "    </tr>\n",
       "    <tr>\n",
       "      <th>11999</th>\n",
       "      <td>NaN</td>\n",
       "      <td>NaN</td>\n",
       "      <td>NaN</td>\n",
       "      <td>NaN</td>\n",
       "      <td>NaN</td>\n",
       "      <td>NaN</td>\n",
       "      <td>NaN</td>\n",
       "      <td>NaN</td>\n",
       "      <td>NaN</td>\n",
       "      <td>NaN</td>\n",
       "      <td>NaN</td>\n",
       "      <td>NaN</td>\n",
       "    </tr>\n",
       "  </tbody>\n",
       "</table>\n",
       "<p>12000 rows × 12 columns</p>\n",
       "</div>"
      ],
      "text/plain": [
       "             id   nombre  apellido nacimiento  genero       empresa   idioma  \\\n",
       "0      599528.0   Samuel      Ward     4/6/89    Male        Yakijo  Marathi   \n",
       "1      121688.0   Willie  Gonzales    6/29/72    Male     Zoonoodle  Maltese   \n",
       "2      552148.0    Betty   Spencer     9/2/83  Female       Youtags  Dhivehi   \n",
       "3      102019.0  Beverly    Jordan    1/15/72  Female      Fivespan    Hindi   \n",
       "4      189384.0  Cynthia    Flores     2/6/71  Female  Jabbersphere   Tsonga   \n",
       "...         ...      ...       ...        ...     ...           ...      ...   \n",
       "11995       NaN      NaN       NaN        NaN     NaN           NaN      NaN   \n",
       "11996       NaN      NaN       NaN        NaN     NaN           NaN      NaN   \n",
       "11997       NaN      NaN       NaN        NaN     NaN           NaN      NaN   \n",
       "11998       NaN      NaN       NaN        NaN     NaN           NaN      NaN   \n",
       "11999       NaN      NaN       NaN        NaN     NaN           NaN      NaN   \n",
       "\n",
       "               nit                     puesto     ciudad  \\\n",
       "0      411-44-7088               Geologist IV   Wangjing   \n",
       "1      701-87-7540             Programmer III  El Corozo   \n",
       "2      373-88-4503               Engineer III     Jinhua   \n",
       "3      447-80-5871  Software Test Engineer IV  Salvacion   \n",
       "4      803-60-8259         Speech Pathologist     Khorol   \n",
       "...            ...                        ...        ...   \n",
       "11995          NaN                        NaN        NaN   \n",
       "11996          NaN                        NaN        NaN   \n",
       "11997          NaN                        NaN        NaN   \n",
       "11998          NaN                        NaN        NaN   \n",
       "11999          NaN                        NaN        NaN   \n",
       "\n",
       "                         correo           telefono  \n",
       "0               sward0@tamu.edu   86-(786)608-5061  \n",
       "1         wgonzales1@apache.org   58-(265)301-3397  \n",
       "2      bspencer2@shutterfly.com   86-(195)193-9042  \n",
       "3            bjordan3@vimeo.com   63-(652)708-7688  \n",
       "4        cflores4@webeden.co.uk  380-(373)389-5435  \n",
       "...                         ...                ...  \n",
       "11995                       NaN                NaN  \n",
       "11996                       NaN                NaN  \n",
       "11997                       NaN                NaN  \n",
       "11998                       NaN                NaN  \n",
       "11999                       NaN                NaN  \n",
       "\n",
       "[12000 rows x 12 columns]"
      ]
     },
     "execution_count": 8,
     "metadata": {},
     "output_type": "execute_result"
    }
   ],
   "source": [
    "client_df = client_df.applymap(remove_accents)\n",
    "client_df"
   ]
  },
  {
   "cell_type": "markdown",
   "id": "a5b1a3ac",
   "metadata": {},
   "source": [
    "### Statistics"
   ]
  },
  {
   "cell_type": "code",
   "execution_count": 40,
   "id": "a4df10ab",
   "metadata": {},
   "outputs": [
    {
     "data": {
      "application/vnd.microsoft.datawrangler.viewer.v0+json": {
       "columns": [
        {
         "name": "index",
         "rawType": "object",
         "type": "string"
        },
        {
         "name": "id",
         "rawType": "float64",
         "type": "float"
        }
       ],
       "conversionMethod": "pd.DataFrame",
       "ref": "fbfec6d0-6ad2-4b4c-b4fe-07aef6527c2c",
       "rows": [
        [
         "count",
         "101.0"
        ],
        [
         "mean",
         "51.0"
        ],
        [
         "std",
         "29.300170647967224"
        ],
        [
         "min",
         "1.0"
        ],
        [
         "25%",
         "26.0"
        ],
        [
         "50%",
         "51.0"
        ],
        [
         "75%",
         "76.0"
        ],
        [
         "max",
         "101.0"
        ]
       ],
       "shape": {
        "columns": 1,
        "rows": 8
       }
      },
      "text/html": [
       "<div>\n",
       "<style scoped>\n",
       "    .dataframe tbody tr th:only-of-type {\n",
       "        vertical-align: middle;\n",
       "    }\n",
       "\n",
       "    .dataframe tbody tr th {\n",
       "        vertical-align: top;\n",
       "    }\n",
       "\n",
       "    .dataframe thead th {\n",
       "        text-align: right;\n",
       "    }\n",
       "</style>\n",
       "<table border=\"1\" class=\"dataframe\">\n",
       "  <thead>\n",
       "    <tr style=\"text-align: right;\">\n",
       "      <th></th>\n",
       "      <th>id</th>\n",
       "    </tr>\n",
       "  </thead>\n",
       "  <tbody>\n",
       "    <tr>\n",
       "      <th>count</th>\n",
       "      <td>101.000000</td>\n",
       "    </tr>\n",
       "    <tr>\n",
       "      <th>mean</th>\n",
       "      <td>51.000000</td>\n",
       "    </tr>\n",
       "    <tr>\n",
       "      <th>std</th>\n",
       "      <td>29.300171</td>\n",
       "    </tr>\n",
       "    <tr>\n",
       "      <th>min</th>\n",
       "      <td>1.000000</td>\n",
       "    </tr>\n",
       "    <tr>\n",
       "      <th>25%</th>\n",
       "      <td>26.000000</td>\n",
       "    </tr>\n",
       "    <tr>\n",
       "      <th>50%</th>\n",
       "      <td>51.000000</td>\n",
       "    </tr>\n",
       "    <tr>\n",
       "      <th>75%</th>\n",
       "      <td>76.000000</td>\n",
       "    </tr>\n",
       "    <tr>\n",
       "      <th>max</th>\n",
       "      <td>101.000000</td>\n",
       "    </tr>\n",
       "  </tbody>\n",
       "</table>\n",
       "</div>"
      ],
      "text/plain": [
       "               id\n",
       "count  101.000000\n",
       "mean    51.000000\n",
       "std     29.300171\n",
       "min      1.000000\n",
       "25%     26.000000\n",
       "50%     51.000000\n",
       "75%     76.000000\n",
       "max    101.000000"
      ]
     },
     "execution_count": 40,
     "metadata": {},
     "output_type": "execute_result"
    }
   ],
   "source": [
    "category_df.describe()"
   ]
  },
  {
   "cell_type": "code",
   "execution_count": 31,
   "id": "09eb0356",
   "metadata": {},
   "outputs": [
    {
     "data": {
      "text/plain": [
       "Index(['id', 'nombre', 'apellido', 'nacimiento', 'genero', 'empresa', 'idioma',\n",
       "       'nit', 'puesto', 'ciudad', 'correo', 'telefono'],\n",
       "      dtype='object')"
      ]
     },
     "execution_count": 31,
     "metadata": {},
     "output_type": "execute_result"
    }
   ],
   "source": [
    "client_df.columns"
   ]
  },
  {
   "cell_type": "markdown",
   "id": "e5eddac3",
   "metadata": {},
   "source": [
    "### Data Quality"
   ]
  },
  {
   "cell_type": "code",
   "execution_count": 9,
   "id": "3722a200",
   "metadata": {},
   "outputs": [
    {
     "data": {
      "image/png": "[encoded data removed]",
      "text/plain": [
       "<Figure size 800x400 with 1 Axes>"
      ]
     },
     "metadata": {},
     "output_type": "display_data"
    }
   ],
   "source": [
    "# Create boolean mask of missing values\n",
    "missing_mask_client = client_df.isnull().astype(int)\n",
    "\n",
    "# Plot the heatmap\n",
    "plt.figure(figsize=(8, 4))\n",
    "sns.heatmap(missing_mask_client, cbar=False, cmap='viridis')  # True=yellow, False=purple\n",
    "plt.title(\"Missing Values Heatmap\")\n",
    "plt.show()"
   ]
  },
  {
   "cell_type": "code",
   "execution_count": 41,
   "id": "730f4b37",
   "metadata": {},
   "outputs": [
    {
     "data": {
      "text/plain": [
       "id           0\n",
       "categoria    0\n",
       "dtype: int64"
      ]
     },
     "execution_count": 41,
     "metadata": {},
     "output_type": "execute_result"
    }
   ],
   "source": [
    "category_df.isnull().sum()"
   ]
  },
  {
   "cell_type": "code",
   "execution_count": 42,
   "id": "e0d35769",
   "metadata": {},
   "outputs": [
    {
     "data": {
      "text/plain": [
       "np.int64(0)"
      ]
     },
     "execution_count": 42,
     "metadata": {},
     "output_type": "execute_result"
    }
   ],
   "source": [
    "category_df.duplicated().sum()"
   ]
  },
  {
   "cell_type": "markdown",
   "id": "a5185f9a",
   "metadata": {},
   "source": [
    "### Data Types"
   ]
  },
  {
   "cell_type": "code",
   "execution_count": 43,
   "id": "dd26890f",
   "metadata": {},
   "outputs": [
    {
     "data": {
      "text/plain": [
       "id            int64\n",
       "categoria    object\n",
       "dtype: object"
      ]
     },
     "execution_count": 43,
     "metadata": {},
     "output_type": "execute_result"
    }
   ],
   "source": [
    "category_df.dtypes"
   ]
  },
  {
   "cell_type": "markdown",
   "id": "42d8351d",
   "metadata": {},
   "source": [
    "## Events CSV"
   ]
  },
  {
   "cell_type": "code",
   "execution_count": 10,
   "id": "2b7c9d2c",
   "metadata": {},
   "outputs": [
    {
     "data": {
      "application/vnd.microsoft.datawrangler.viewer.v0+json": {
       "columns": [
        {
         "name": "index",
         "rawType": "int64",
         "type": "integer"
        },
        {
         "name": "timestamp",
         "rawType": "int64",
         "type": "integer"
        },
        {
         "name": "visitorid",
         "rawType": "int64",
         "type": "integer"
        },
        {
         "name": "event",
         "rawType": "object",
         "type": "string"
        },
        {
         "name": "itemid",
         "rawType": "int64",
         "type": "integer"
        },
        {
         "name": "transactionid",
         "rawType": "float64",
         "type": "float"
        }
       ],
       "conversionMethod": "pd.DataFrame",
       "ref": "fd7a3109-1ece-4589-9b82-a92119317295",
       "rows": [
        [
         "0",
         "1433221332117",
         "257597",
         "view",
         "355908",
         null
        ],
        [
         "1",
         "1433224214164",
         "992329",
         "view",
         "248676",
         null
        ],
        [
         "2",
         "1433221999827",
         "111016",
         "view",
         "318965",
         null
        ],
        [
         "3",
         "1433221955914",
         "483717",
         "view",
         "253185",
         null
        ],
        [
         "4",
         "1433221337106",
         "951259",
         "view",
         "367447",
         null
        ],
        [
         "5",
         "1433224086234",
         "972639",
         "view",
         "22556",
         null
        ],
        [
         "6",
         "1433221923240",
         "810725",
         "view",
         "443030",
         null
        ],
        [
         "7",
         "1433223291897",
         "794181",
         "view",
         "439202",
         null
        ],
        [
         "8",
         "1433220899221",
         "824915",
         "view",
         "428805",
         null
        ],
        [
         "9",
         "1433221204592",
         "339335",
         "view",
         "82389",
         null
        ],
        [
         "10",
         "1433222162373",
         "176446",
         "view",
         "10572",
         null
        ],
        [
         "11",
         "1433221701252",
         "929206",
         "view",
         "410676",
         null
        ],
        [
         "12",
         "1433224229496",
         "15795",
         "view",
         "44872",
         null
        ],
        [
         "13",
         "1433223697356",
         "598426",
         "view",
         "156489",
         null
        ],
        [
         "14",
         "1433224078165",
         "223343",
         "view",
         "402625",
         null
        ],
        [
         "15",
         "1433222531378",
         "57036",
         "view",
         "334662",
         null
        ],
        [
         "16",
         "1433223239808",
         "1377281",
         "view",
         "251467",
         null
        ],
        [
         "17",
         "1433223236124",
         "287857",
         "addtocart",
         "5206",
         null
        ],
        [
         "18",
         "1433224244282",
         "1370216",
         "view",
         "176721",
         null
        ],
        [
         "19",
         "1433221078505",
         "158090",
         "addtocart",
         "10572",
         null
        ],
        [
         "20",
         "1433224070841",
         "1398644",
         "view",
         "135256",
         null
        ],
        [
         "21",
         "1433224252461",
         "653756",
         "view",
         "132316",
         null
        ],
        [
         "22",
         "1433221274809",
         "1213673",
         "view",
         "343861",
         null
        ],
        [
         "23",
         "1433221275206",
         "864246",
         "view",
         "36642",
         null
        ],
        [
         "24",
         "1433223203944",
         "125625",
         "view",
         "17655",
         null
        ],
        [
         "25",
         "1433224683817",
         "608100",
         "view",
         "187722",
         null
        ],
        [
         "26",
         "1433221373311",
         "781127",
         "view",
         "21989",
         null
        ],
        [
         "27",
         "1433222147345",
         "1076270",
         "view",
         "262799",
         null
        ],
        [
         "28",
         "1433224554732",
         "453474",
         "view",
         "250696",
         null
        ],
        [
         "29",
         "1433221377547",
         "1153198",
         "view",
         "388242",
         null
        ],
        [
         "30",
         "1433224266445",
         "273888",
         "view",
         "205392",
         null
        ],
        [
         "31",
         "1433221380636",
         "849453",
         "view",
         "123990",
         null
        ],
        [
         "32",
         "1433221018375",
         "487887",
         "view",
         "345560",
         null
        ],
        [
         "33",
         "1433223176926",
         "629333",
         "view",
         "128394",
         null
        ],
        [
         "34",
         "1433222143427",
         "1130165",
         "view",
         "45337",
         null
        ],
        [
         "35",
         "1433224644638",
         "361387",
         "view",
         "43485",
         null
        ],
        [
         "36",
         "1433223643340",
         "112175",
         "view",
         "430845",
         null
        ],
        [
         "37",
         "1433223471170",
         "860082",
         "view",
         "22926",
         null
        ],
        [
         "38",
         "1433223159620",
         "784669",
         "view",
         "181743",
         null
        ],
        [
         "39",
         "1433222438241",
         "1061147",
         "view",
         "280893",
         null
        ],
        [
         "40",
         "1433224056696",
         "485456",
         "view",
         "216707",
         null
        ],
        [
         "41",
         "1433221622167",
         "1342963",
         "view",
         "306886",
         null
        ],
        [
         "42",
         "1433223776925",
         "969887",
         "view",
         "159780",
         null
        ],
        [
         "43",
         "1433223148655",
         "759369",
         "view",
         "386527",
         null
        ],
        [
         "44",
         "1433223146605",
         "1282360",
         "view",
         "106564",
         null
        ],
        [
         "45",
         "1433221051265",
         "233317",
         "view",
         "75994",
         null
        ],
        [
         "46",
         "1433223785793",
         "392042",
         "view",
         "280375",
         null
        ],
        [
         "47",
         "1433221172079",
         "591038",
         "view",
         "367500",
         null
        ],
        [
         "48",
         "1433223138106",
         "692195",
         "view",
         "112792",
         null
        ],
        [
         "49",
         "1433223574540",
         "432882",
         "view",
         "102061",
         null
        ]
       ],
       "shape": {
        "columns": 5,
        "rows": 2756101
       }
      },
      "text/html": [
       "<div>\n",
       "<style scoped>\n",
       "    .dataframe tbody tr th:only-of-type {\n",
       "        vertical-align: middle;\n",
       "    }\n",
       "\n",
       "    .dataframe tbody tr th {\n",
       "        vertical-align: top;\n",
       "    }\n",
       "\n",
       "    .dataframe thead th {\n",
       "        text-align: right;\n",
       "    }\n",
       "</style>\n",
       "<table border=\"1\" class=\"dataframe\">\n",
       "  <thead>\n",
       "    <tr style=\"text-align: right;\">\n",
       "      <th></th>\n",
       "      <th>timestamp</th>\n",
       "      <th>visitorid</th>\n",
       "      <th>event</th>\n",
       "      <th>itemid</th>\n",
       "      <th>transactionid</th>\n",
       "    </tr>\n",
       "  </thead>\n",
       "  <tbody>\n",
       "    <tr>\n",
       "      <th>0</th>\n",
       "      <td>1433221332117</td>\n",
       "      <td>257597</td>\n",
       "      <td>view</td>\n",
       "      <td>355908</td>\n",
       "      <td>NaN</td>\n",
       "    </tr>\n",
       "    <tr>\n",
       "      <th>1</th>\n",
       "      <td>1433224214164</td>\n",
       "      <td>992329</td>\n",
       "      <td>view</td>\n",
       "      <td>248676</td>\n",
       "      <td>NaN</td>\n",
       "    </tr>\n",
       "    <tr>\n",
       "      <th>2</th>\n",
       "      <td>1433221999827</td>\n",
       "      <td>111016</td>\n",
       "      <td>view</td>\n",
       "      <td>318965</td>\n",
       "      <td>NaN</td>\n",
       "    </tr>\n",
       "    <tr>\n",
       "      <th>3</th>\n",
       "      <td>1433221955914</td>\n",
       "      <td>483717</td>\n",
       "      <td>view</td>\n",
       "      <td>253185</td>\n",
       "      <td>NaN</td>\n",
       "    </tr>\n",
       "    <tr>\n",
       "      <th>4</th>\n",
       "      <td>1433221337106</td>\n",
       "      <td>951259</td>\n",
       "      <td>view</td>\n",
       "      <td>367447</td>\n",
       "      <td>NaN</td>\n",
       "    </tr>\n",
       "    <tr>\n",
       "      <th>...</th>\n",
       "      <td>...</td>\n",
       "      <td>...</td>\n",
       "      <td>...</td>\n",
       "      <td>...</td>\n",
       "      <td>...</td>\n",
       "    </tr>\n",
       "    <tr>\n",
       "      <th>2756096</th>\n",
       "      <td>1438398785939</td>\n",
       "      <td>591435</td>\n",
       "      <td>view</td>\n",
       "      <td>261427</td>\n",
       "      <td>NaN</td>\n",
       "    </tr>\n",
       "    <tr>\n",
       "      <th>2756097</th>\n",
       "      <td>1438399813142</td>\n",
       "      <td>762376</td>\n",
       "      <td>view</td>\n",
       "      <td>115946</td>\n",
       "      <td>NaN</td>\n",
       "    </tr>\n",
       "    <tr>\n",
       "      <th>2756098</th>\n",
       "      <td>1438397820527</td>\n",
       "      <td>1251746</td>\n",
       "      <td>view</td>\n",
       "      <td>78144</td>\n",
       "      <td>NaN</td>\n",
       "    </tr>\n",
       "    <tr>\n",
       "      <th>2756099</th>\n",
       "      <td>1438398530703</td>\n",
       "      <td>1184451</td>\n",
       "      <td>view</td>\n",
       "      <td>283392</td>\n",
       "      <td>NaN</td>\n",
       "    </tr>\n",
       "    <tr>\n",
       "      <th>2756100</th>\n",
       "      <td>1438400163914</td>\n",
       "      <td>199536</td>\n",
       "      <td>view</td>\n",
       "      <td>152913</td>\n",
       "      <td>NaN</td>\n",
       "    </tr>\n",
       "  </tbody>\n",
       "</table>\n",
       "<p>2756101 rows × 5 columns</p>\n",
       "</div>"
      ],
      "text/plain": [
       "             timestamp  visitorid event  itemid  transactionid\n",
       "0        1433221332117     257597  view  355908            NaN\n",
       "1        1433224214164     992329  view  248676            NaN\n",
       "2        1433221999827     111016  view  318965            NaN\n",
       "3        1433221955914     483717  view  253185            NaN\n",
       "4        1433221337106     951259  view  367447            NaN\n",
       "...                ...        ...   ...     ...            ...\n",
       "2756096  1438398785939     591435  view  261427            NaN\n",
       "2756097  1438399813142     762376  view  115946            NaN\n",
       "2756098  1438397820527    1251746  view   78144            NaN\n",
       "2756099  1438398530703    1184451  view  283392            NaN\n",
       "2756100  1438400163914     199536  view  152913            NaN\n",
       "\n",
       "[2756101 rows x 5 columns]"
      ]
     },
     "execution_count": 10,
     "metadata": {},
     "output_type": "execute_result"
    }
   ],
   "source": [
    "events_df = pd.read_csv(\"data/events.csv\")\n",
    "events_df"
   ]
  },
  {
   "cell_type": "markdown",
   "id": "4be44fbe",
   "metadata": {},
   "source": [
    "### Statistics"
   ]
  },
  {
   "cell_type": "code",
   "execution_count": 47,
   "id": "320ce2d5",
   "metadata": {},
   "outputs": [
    {
     "data": {
      "application/vnd.microsoft.datawrangler.viewer.v0+json": {
       "columns": [
        {
         "name": "index",
         "rawType": "object",
         "type": "string"
        },
        {
         "name": "timestamp",
         "rawType": "float64",
         "type": "float"
        },
        {
         "name": "visitorid",
         "rawType": "float64",
         "type": "float"
        },
        {
         "name": "itemid",
         "rawType": "float64",
         "type": "float"
        },
        {
         "name": "transactionid",
         "rawType": "float64",
         "type": "float"
        }
       ],
       "conversionMethod": "pd.DataFrame",
       "ref": "dabd59e2-d91c-47c4-9714-716318384bac",
       "rows": [
        [
         "count",
         "2756101.0",
         "2756101.0",
         "2756101.0",
         "22457.0"
        ],
        [
         "mean",
         "1436424488348.1033",
         "701922.8832292431",
         "234922.4783750668",
         "8826.497795787505"
        ],
        [
         "std",
         "3366312180.0103364",
         "405687.5208087451",
         "134195.42521364643",
         "5098.996289874066"
        ],
        [
         "min",
         "1430622004384.0",
         "0.0",
         "3.0",
         "0.0"
        ],
        [
         "25%",
         "1433478194792.0",
         "350566.0",
         "118120.0",
         "4411.0"
        ],
        [
         "50%",
         "1436453013599.0",
         "702060.0",
         "236067.0",
         "8813.0"
        ],
        [
         "75%",
         "1439225105168.0",
         "1053437.0",
         "350715.0",
         "13224.0"
        ],
        [
         "max",
         "1442545187788.0",
         "1407579.0",
         "466867.0",
         "17671.0"
        ]
       ],
       "shape": {
        "columns": 4,
        "rows": 8
       }
      },
      "text/html": [
       "<div>\n",
       "<style scoped>\n",
       "    .dataframe tbody tr th:only-of-type {\n",
       "        vertical-align: middle;\n",
       "    }\n",
       "\n",
       "    .dataframe tbody tr th {\n",
       "        vertical-align: top;\n",
       "    }\n",
       "\n",
       "    .dataframe thead th {\n",
       "        text-align: right;\n",
       "    }\n",
       "</style>\n",
       "<table border=\"1\" class=\"dataframe\">\n",
       "  <thead>\n",
       "    <tr style=\"text-align: right;\">\n",
       "      <th></th>\n",
       "      <th>timestamp</th>\n",
       "      <th>visitorid</th>\n",
       "      <th>itemid</th>\n",
       "      <th>transactionid</th>\n",
       "    </tr>\n",
       "  </thead>\n",
       "  <tbody>\n",
       "    <tr>\n",
       "      <th>count</th>\n",
       "      <td>2.756101e+06</td>\n",
       "      <td>2.756101e+06</td>\n",
       "      <td>2.756101e+06</td>\n",
       "      <td>22457.000000</td>\n",
       "    </tr>\n",
       "    <tr>\n",
       "      <th>mean</th>\n",
       "      <td>1.436424e+12</td>\n",
       "      <td>7.019229e+05</td>\n",
       "      <td>2.349225e+05</td>\n",
       "      <td>8826.497796</td>\n",
       "    </tr>\n",
       "    <tr>\n",
       "      <th>std</th>\n",
       "      <td>3.366312e+09</td>\n",
       "      <td>4.056875e+05</td>\n",
       "      <td>1.341954e+05</td>\n",
       "      <td>5098.996290</td>\n",
       "    </tr>\n",
       "    <tr>\n",
       "      <th>min</th>\n",
       "      <td>1.430622e+12</td>\n",
       "      <td>0.000000e+00</td>\n",
       "      <td>3.000000e+00</td>\n",
       "      <td>0.000000</td>\n",
       "    </tr>\n",
       "    <tr>\n",
       "      <th>25%</th>\n",
       "      <td>1.433478e+12</td>\n",
       "      <td>3.505660e+05</td>\n",
       "      <td>1.181200e+05</td>\n",
       "      <td>4411.000000</td>\n",
       "    </tr>\n",
       "    <tr>\n",
       "      <th>50%</th>\n",
       "      <td>1.436453e+12</td>\n",
       "      <td>7.020600e+05</td>\n",
       "      <td>2.360670e+05</td>\n",
       "      <td>8813.000000</td>\n",
       "    </tr>\n",
       "    <tr>\n",
       "      <th>75%</th>\n",
       "      <td>1.439225e+12</td>\n",
       "      <td>1.053437e+06</td>\n",
       "      <td>3.507150e+05</td>\n",
       "      <td>13224.000000</td>\n",
       "    </tr>\n",
       "    <tr>\n",
       "      <th>max</th>\n",
       "      <td>1.442545e+12</td>\n",
       "      <td>1.407579e+06</td>\n",
       "      <td>4.668670e+05</td>\n",
       "      <td>17671.000000</td>\n",
       "    </tr>\n",
       "  </tbody>\n",
       "</table>\n",
       "</div>"
      ],
      "text/plain": [
       "          timestamp     visitorid        itemid  transactionid\n",
       "count  2.756101e+06  2.756101e+06  2.756101e+06   22457.000000\n",
       "mean   1.436424e+12  7.019229e+05  2.349225e+05    8826.497796\n",
       "std    3.366312e+09  4.056875e+05  1.341954e+05    5098.996290\n",
       "min    1.430622e+12  0.000000e+00  3.000000e+00       0.000000\n",
       "25%    1.433478e+12  3.505660e+05  1.181200e+05    4411.000000\n",
       "50%    1.436453e+12  7.020600e+05  2.360670e+05    8813.000000\n",
       "75%    1.439225e+12  1.053437e+06  3.507150e+05   13224.000000\n",
       "max    1.442545e+12  1.407579e+06  4.668670e+05   17671.000000"
      ]
     },
     "execution_count": 47,
     "metadata": {},
     "output_type": "execute_result"
    }
   ],
   "source": [
    "events_df.describe()"
   ]
  },
  {
   "cell_type": "markdown",
   "id": "8395ec0e",
   "metadata": {},
   "source": [
    "### Data Quality"
   ]
  },
  {
   "cell_type": "code",
   "execution_count": 11,
   "id": "6a960ca1",
   "metadata": {},
   "outputs": [
    {
     "data": {
      "image/png": "[encoded data removed]",
      "text/plain": [
       "<Figure size 800x400 with 1 Axes>"
      ]
     },
     "metadata": {},
     "output_type": "display_data"
    }
   ],
   "source": [
    "# Create boolean mask of missing values\n",
    "missing_mask_events = events_df.isnull().astype(int)\n",
    "\n",
    "# Plot the heatmap\n",
    "plt.figure(figsize=(8, 4))\n",
    "sns.heatmap(missing_mask_events, cbar=False, cmap='viridis')  # True=yellow, False=purple\n",
    "plt.title(\"Missing Values Heatmap\")\n",
    "plt.show()"
   ]
  },
  {
   "cell_type": "code",
   "execution_count": 44,
   "id": "194fb8a8",
   "metadata": {},
   "outputs": [
    {
     "data": {
      "text/plain": [
       "timestamp              0\n",
       "visitorid              0\n",
       "event                  0\n",
       "itemid                 0\n",
       "transactionid    2733644\n",
       "dtype: int64"
      ]
     },
     "execution_count": 44,
     "metadata": {},
     "output_type": "execute_result"
    }
   ],
   "source": [
    "events_df.isna().sum()"
   ]
  },
  {
   "cell_type": "code",
   "execution_count": 45,
   "id": "c8fe9b75",
   "metadata": {},
   "outputs": [
    {
     "data": {
      "text/plain": [
       "np.int64(460)"
      ]
     },
     "execution_count": 45,
     "metadata": {},
     "output_type": "execute_result"
    }
   ],
   "source": [
    "events_df.duplicated().sum()"
   ]
  },
  {
   "cell_type": "code",
   "execution_count": 60,
   "id": "b5d9b716",
   "metadata": {},
   "outputs": [
    {
     "name": "stdout",
     "output_type": "stream",
     "text": [
      "Column: event\n",
      "  Unique count: 3\n",
      "  Unique values: ['view' 'addtocart' 'transaction']\n",
      "\n"
     ]
    }
   ],
   "source": [
    "unique_values_non_numeric(df=events_df)"
   ]
  },
  {
   "cell_type": "markdown",
   "id": "c0de0cca",
   "metadata": {},
   "source": [
    "### Data Types"
   ]
  },
  {
   "cell_type": "code",
   "execution_count": 46,
   "id": "e8faab18",
   "metadata": {},
   "outputs": [
    {
     "data": {
      "text/plain": [
       "timestamp          int64\n",
       "visitorid          int64\n",
       "event             object\n",
       "itemid             int64\n",
       "transactionid    float64\n",
       "dtype: object"
      ]
     },
     "execution_count": 46,
     "metadata": {},
     "output_type": "execute_result"
    }
   ],
   "source": [
    "events_df.dtypes"
   ]
  },
  {
   "cell_type": "markdown",
   "id": "2e74372c",
   "metadata": {},
   "source": [
    "## Brand CSV"
   ]
  },
  {
   "cell_type": "code",
   "execution_count": 48,
   "id": "c389e1a9",
   "metadata": {},
   "outputs": [
    {
     "data": {
      "application/vnd.microsoft.datawrangler.viewer.v0+json": {
       "columns": [
        {
         "name": "index",
         "rawType": "int64",
         "type": "integer"
        },
        {
         "name": "id",
         "rawType": "int64",
         "type": "integer"
        },
        {
         "name": "marca",
         "rawType": "object",
         "type": "string"
        }
       ],
       "conversionMethod": "pd.DataFrame",
       "ref": "9323b034-c901-4303-a660-42738628388a",
       "rows": [
        [
         "0",
         "1",
         "Diageo Americas"
        ],
        [
         "1",
         "2",
         "Heaven Hill Brands"
        ],
        [
         "2",
         "3",
         "Sazerac Co., Inc."
        ],
        [
         "3",
         "4",
         "Sage Beverages"
        ],
        [
         "4",
         "5",
         "MHW Ltd"
        ],
        [
         "5",
         "6",
         "White Rock Distilleries, Inc."
        ],
        [
         "6",
         "7",
         "Pernod Ricard USA/Austin Nichols"
        ],
        [
         "7",
         "8",
         "Edrington Group USA LLC"
        ],
        [
         "8",
         "9",
         "Luxco-St Louis"
        ],
        [
         "9",
         "10",
         "WILLIAM GRANT AND SONS, INC."
        ],
        [
         "10",
         "11",
         "Kwik Imports"
        ],
        [
         "11",
         "12",
         "Constellation Wine Company, Inc."
        ],
        [
         "12",
         "13",
         "Bacardi U.S.A., Inc."
        ],
        [
         "13",
         "14",
         "Moet Hennessy USA, Inc."
        ],
        [
         "14",
         "15",
         "Levecke Corp"
        ],
        [
         "15",
         "16",
         "Yahara Bay Distillers, Inc"
        ],
        [
         "16",
         "17",
         "The Patron Spirits Company"
        ],
        [
         "17",
         "18",
         "E AND J GALLO WINERY"
        ],
        [
         "18",
         "19",
         "Sazerac North America"
        ],
        [
         "19",
         "20",
         "B. United International"
        ],
        [
         "20",
         "21",
         "Proximo"
        ],
        [
         "21",
         "22",
         "ALLIED DOMECQ SPIRITS AND WINE USA"
        ],
        [
         "22",
         "23",
         "Jim Beam Brands"
        ],
        [
         "23",
         "24",
         "Shaw Ross International Importers LL"
        ],
        [
         "24",
         "25",
         "Campari(skyy)"
        ],
        [
         "25",
         "26",
         "Seagram Americas"
        ],
        [
         "26",
         "27",
         "United Distillers USA"
        ],
        [
         "27",
         "28",
         "Brown-Forman Corporation"
        ],
        [
         "28",
         "29",
         "Dehner Distillery"
        ],
        [
         "29",
         "30",
         "Frank-lin Distillers Products Ltd."
        ],
        [
         "30",
         "31",
         "REMY COINTREAU USA         ."
        ],
        [
         "31",
         "32",
         "WILDMAN AND SONS, F."
        ],
        [
         "32",
         "33",
         "Sidney Frank Importing Co."
        ],
        [
         "33",
         "34",
         "Better Beverage Importers"
        ],
        [
         "34",
         "35",
         "Blavod Extreme Spirits USA, Inc."
        ],
        [
         "35",
         "36",
         "Mccormick Distilling Company"
        ],
        [
         "36",
         "37",
         "Prestige Wine and Spirits Group"
        ],
        [
         "37",
         "38",
         "Laird And Company"
        ],
        [
         "38",
         "39",
         "Phillips Beverage Company"
        ],
        [
         "39",
         "40",
         "Castle Brands"
        ],
        [
         "40",
         "41",
         "3 Badge Mixology"
        ],
        [
         "41",
         "42",
         "Disaronno International LLC"
        ],
        [
         "42",
         "43",
         "Luxco-Cleveland"
        ],
        [
         "43",
         "44",
         "Hood River Distillers, Inc."
        ],
        [
         "44",
         "45",
         "Nolet Spirits USA"
        ],
        [
         "45",
         "46",
         "Carillon Importers Ltd."
        ],
        [
         "46",
         "47",
         "Gemini Spirits"
        ],
        [
         "47",
         "48",
         "Palm Bay Imports, Inc."
        ],
        [
         "48",
         "49",
         "A Hardy / U.S.A., Ltd."
        ],
        [
         "49",
         "50",
         "Aiko Importers Inc"
        ]
       ],
       "shape": {
        "columns": 2,
        "rows": 307
       }
      },
      "text/html": [
       "<div>\n",
       "<style scoped>\n",
       "    .dataframe tbody tr th:only-of-type {\n",
       "        vertical-align: middle;\n",
       "    }\n",
       "\n",
       "    .dataframe tbody tr th {\n",
       "        vertical-align: top;\n",
       "    }\n",
       "\n",
       "    .dataframe thead th {\n",
       "        text-align: right;\n",
       "    }\n",
       "</style>\n",
       "<table border=\"1\" class=\"dataframe\">\n",
       "  <thead>\n",
       "    <tr style=\"text-align: right;\">\n",
       "      <th></th>\n",
       "      <th>id</th>\n",
       "      <th>marca</th>\n",
       "    </tr>\n",
       "  </thead>\n",
       "  <tbody>\n",
       "    <tr>\n",
       "      <th>0</th>\n",
       "      <td>1</td>\n",
       "      <td>Diageo Americas</td>\n",
       "    </tr>\n",
       "    <tr>\n",
       "      <th>1</th>\n",
       "      <td>2</td>\n",
       "      <td>Heaven Hill Brands</td>\n",
       "    </tr>\n",
       "    <tr>\n",
       "      <th>2</th>\n",
       "      <td>3</td>\n",
       "      <td>Sazerac Co., Inc.</td>\n",
       "    </tr>\n",
       "    <tr>\n",
       "      <th>3</th>\n",
       "      <td>4</td>\n",
       "      <td>Sage Beverages</td>\n",
       "    </tr>\n",
       "    <tr>\n",
       "      <th>4</th>\n",
       "      <td>5</td>\n",
       "      <td>MHW Ltd</td>\n",
       "    </tr>\n",
       "    <tr>\n",
       "      <th>...</th>\n",
       "      <td>...</td>\n",
       "      <td>...</td>\n",
       "    </tr>\n",
       "    <tr>\n",
       "      <th>302</th>\n",
       "      <td>303</td>\n",
       "      <td>Breuckelen Distilling</td>\n",
       "    </tr>\n",
       "    <tr>\n",
       "      <th>303</th>\n",
       "      <td>304</td>\n",
       "      <td>Iowa ABD</td>\n",
       "    </tr>\n",
       "    <tr>\n",
       "      <th>304</th>\n",
       "      <td>305</td>\n",
       "      <td>Park Street-G'Day</td>\n",
       "    </tr>\n",
       "    <tr>\n",
       "      <th>305</th>\n",
       "      <td>306</td>\n",
       "      <td>Royal Wine Corporation</td>\n",
       "    </tr>\n",
       "    <tr>\n",
       "      <th>306</th>\n",
       "      <td>307</td>\n",
       "      <td>Purple Valley Imports</td>\n",
       "    </tr>\n",
       "  </tbody>\n",
       "</table>\n",
       "<p>307 rows × 2 columns</p>\n",
       "</div>"
      ],
      "text/plain": [
       "      id                   marca\n",
       "0      1         Diageo Americas\n",
       "1      2      Heaven Hill Brands\n",
       "2      3       Sazerac Co., Inc.\n",
       "3      4          Sage Beverages\n",
       "4      5                 MHW Ltd\n",
       "..   ...                     ...\n",
       "302  303   Breuckelen Distilling\n",
       "303  304                Iowa ABD\n",
       "304  305       Park Street-G'Day\n",
       "305  306  Royal Wine Corporation\n",
       "306  307   Purple Valley Imports\n",
       "\n",
       "[307 rows x 2 columns]"
      ]
     },
     "execution_count": 48,
     "metadata": {},
     "output_type": "execute_result"
    }
   ],
   "source": [
    "brand_df = pd.read_csv(\"data/marca.csv\")\n",
    "brand_df"
   ]
  },
  {
   "cell_type": "markdown",
   "id": "597e8958",
   "metadata": {},
   "source": [
    "### Statistics"
   ]
  },
  {
   "cell_type": "code",
   "execution_count": 49,
   "id": "0b0d2062",
   "metadata": {},
   "outputs": [
    {
     "data": {
      "application/vnd.microsoft.datawrangler.viewer.v0+json": {
       "columns": [
        {
         "name": "index",
         "rawType": "object",
         "type": "string"
        },
        {
         "name": "id",
         "rawType": "float64",
         "type": "float"
        }
       ],
       "conversionMethod": "pd.DataFrame",
       "ref": "bd2d9852-da20-45c4-87cf-b47188bb2cd0",
       "rows": [
        [
         "count",
         "307.0"
        ],
        [
         "mean",
         "154.0"
        ],
        [
         "std",
         "88.7674865402117"
        ],
        [
         "min",
         "1.0"
        ],
        [
         "25%",
         "77.5"
        ],
        [
         "50%",
         "154.0"
        ],
        [
         "75%",
         "230.5"
        ],
        [
         "max",
         "307.0"
        ]
       ],
       "shape": {
        "columns": 1,
        "rows": 8
       }
      },
      "text/html": [
       "<div>\n",
       "<style scoped>\n",
       "    .dataframe tbody tr th:only-of-type {\n",
       "        vertical-align: middle;\n",
       "    }\n",
       "\n",
       "    .dataframe tbody tr th {\n",
       "        vertical-align: top;\n",
       "    }\n",
       "\n",
       "    .dataframe thead th {\n",
       "        text-align: right;\n",
       "    }\n",
       "</style>\n",
       "<table border=\"1\" class=\"dataframe\">\n",
       "  <thead>\n",
       "    <tr style=\"text-align: right;\">\n",
       "      <th></th>\n",
       "      <th>id</th>\n",
       "    </tr>\n",
       "  </thead>\n",
       "  <tbody>\n",
       "    <tr>\n",
       "      <th>count</th>\n",
       "      <td>307.000000</td>\n",
       "    </tr>\n",
       "    <tr>\n",
       "      <th>mean</th>\n",
       "      <td>154.000000</td>\n",
       "    </tr>\n",
       "    <tr>\n",
       "      <th>std</th>\n",
       "      <td>88.767487</td>\n",
       "    </tr>\n",
       "    <tr>\n",
       "      <th>min</th>\n",
       "      <td>1.000000</td>\n",
       "    </tr>\n",
       "    <tr>\n",
       "      <th>25%</th>\n",
       "      <td>77.500000</td>\n",
       "    </tr>\n",
       "    <tr>\n",
       "      <th>50%</th>\n",
       "      <td>154.000000</td>\n",
       "    </tr>\n",
       "    <tr>\n",
       "      <th>75%</th>\n",
       "      <td>230.500000</td>\n",
       "    </tr>\n",
       "    <tr>\n",
       "      <th>max</th>\n",
       "      <td>307.000000</td>\n",
       "    </tr>\n",
       "  </tbody>\n",
       "</table>\n",
       "</div>"
      ],
      "text/plain": [
       "               id\n",
       "count  307.000000\n",
       "mean   154.000000\n",
       "std     88.767487\n",
       "min      1.000000\n",
       "25%     77.500000\n",
       "50%    154.000000\n",
       "75%    230.500000\n",
       "max    307.000000"
      ]
     },
     "execution_count": 49,
     "metadata": {},
     "output_type": "execute_result"
    }
   ],
   "source": [
    "brand_df.describe()"
   ]
  },
  {
   "cell_type": "markdown",
   "id": "afeee0aa",
   "metadata": {},
   "source": [
    "### Data Quality"
   ]
  },
  {
   "cell_type": "code",
   "execution_count": 13,
   "id": "8b1b2861",
   "metadata": {},
   "outputs": [
    {
     "data": {
      "image/png": "[encoded data removed]",
      "text/plain": [
       "<Figure size 800x400 with 1 Axes>"
      ]
     },
     "metadata": {},
     "output_type": "display_data"
    }
   ],
   "source": [
    "# Create boolean mask of missing values\n",
    "missing_mask_brand = brand_df.isnull().astype(int)\n",
    "\n",
    "# Plot the heatmap\n",
    "plt.figure(figsize=(8, 4))\n",
    "sns.heatmap(missing_mask_brand, cbar=False, cmap='viridis')  # True=yellow, False=purple\n",
    "plt.title(\"Missing Values Heatmap\")\n",
    "plt.show()"
   ]
  },
  {
   "cell_type": "code",
   "execution_count": 50,
   "id": "1ed81c78",
   "metadata": {},
   "outputs": [
    {
     "data": {
      "text/plain": [
       "id       0\n",
       "marca    0\n",
       "dtype: int64"
      ]
     },
     "execution_count": 50,
     "metadata": {},
     "output_type": "execute_result"
    }
   ],
   "source": [
    "brand_df.isna().sum()"
   ]
  },
  {
   "cell_type": "code",
   "execution_count": 52,
   "id": "ceab9c1d",
   "metadata": {},
   "outputs": [
    {
     "data": {
      "text/plain": [
       "np.int64(0)"
      ]
     },
     "execution_count": 52,
     "metadata": {},
     "output_type": "execute_result"
    }
   ],
   "source": [
    "brand_df.duplicated().sum()"
   ]
  },
  {
   "cell_type": "markdown",
   "id": "eed37c4c",
   "metadata": {},
   "source": [
    "### Data Types"
   ]
  },
  {
   "cell_type": "code",
   "execution_count": 53,
   "id": "0a818652",
   "metadata": {},
   "outputs": [
    {
     "data": {
      "text/plain": [
       "id        int64\n",
       "marca    object\n",
       "dtype: object"
      ]
     },
     "execution_count": 53,
     "metadata": {},
     "output_type": "execute_result"
    }
   ],
   "source": [
    "brand_df.dtypes"
   ]
  },
  {
   "cell_type": "markdown",
   "id": "1b3085a9",
   "metadata": {},
   "source": [
    "## Product CSV"
   ]
  },
  {
   "cell_type": "code",
   "execution_count": 14,
   "id": "f75a439d",
   "metadata": {},
   "outputs": [
    {
     "data": {
      "application/vnd.microsoft.datawrangler.viewer.v0+json": {
       "columns": [
        {
         "name": "index",
         "rawType": "int64",
         "type": "integer"
        },
        {
         "name": "id",
         "rawType": "int64",
         "type": "integer"
        },
        {
         "name": "categoria_id",
         "rawType": "float64",
         "type": "float"
        },
        {
         "name": "nombre",
         "rawType": "object",
         "type": "string"
        },
        {
         "name": "marca_id",
         "rawType": "float64",
         "type": "float"
        },
        {
         "name": "volumen",
         "rawType": "int64",
         "type": "integer"
        },
        {
         "name": "precio",
         "rawType": "float64",
         "type": "float"
        }
       ],
       "conversionMethod": "pd.DataFrame",
       "ref": "22a01150-fe98-4d0f-bcc4-f7032f58dee7",
       "rows": [
        [
         "0",
         "356475",
         "9.0",
         "Crown Royal Honey",
         "1.0",
         "750",
         "22.49"
        ],
        [
         "1",
         "15335",
         "9.0",
         "Crown Royal Regal Apple Mini",
         "1.0",
         "300",
         "11.03"
        ],
        [
         "2",
         "81345",
         "9.0",
         "Crown Royal Regal Apple",
         "1.0",
         "200",
         "7.08"
        ],
        [
         "3",
         "150318",
         "9.0",
         "Crown Royal Xr Canadian Whiskey",
         "1.0",
         "750",
         "98.99"
        ],
        [
         "4",
         "310791",
         "9.0",
         "Crown Royal Canadian Whisky Mini",
         "1.0",
         "300",
         "11.03"
        ],
        [
         "5",
         "54058",
         "9.0",
         "Crown Royal Canadian Whisky",
         "1.0",
         "200",
         "7.25"
        ],
        [
         "6",
         "284871",
         "9.0",
         "Crown Royal Canadian Whisky",
         "1.0",
         "375",
         "11.63"
        ],
        [
         "7",
         "150100",
         "9.0",
         "Crown Royal Canadian Whisky",
         "1.0",
         "1000",
         "28.13"
        ],
        [
         "8",
         "243566",
         "9.0",
         "Crown Royal Canadian Whisky",
         "1.0",
         "1750",
         "47.99"
        ],
        [
         "9",
         "245400",
         "9.0",
         "Crown Royal",
         "1.0",
         "200",
         "7.08"
        ],
        [
         "10",
         "336832",
         "9.0",
         "Seagrams V.o. Bl Canadian Whisky",
         "1.0",
         "750",
         "11.25"
        ],
        [
         "11",
         "202052",
         "5.0",
         "Captain Morgan Mango With Pitcher",
         "1.0",
         "750",
         "10.64"
        ],
        [
         "12",
         "7943",
         "5.0",
         "Captain Morgan Pineapple With Pitcher",
         "1.0",
         "750",
         "10.64"
        ],
        [
         "13",
         "185598",
         "14.0",
         "Club Cocktails Brass Monkey",
         "1.0",
         "750",
         "5.21"
        ],
        [
         "14",
         "338308",
         "14.0",
         "Club Cocktails Gin Martini",
         "1.0",
         "750",
         "5.19"
        ],
        [
         "15",
         "318333",
         "14.0",
         "Club Cocktails Manhattan",
         "1.0",
         "750",
         "5.19"
        ],
        [
         "16",
         "68242",
         "14.0",
         "Club Mudslide",
         "1.0",
         "1750",
         "9.6"
        ],
        [
         "17",
         "185896",
         "14.0",
         "Club Lime Margarita",
         "1.0",
         "1750",
         "12.75"
        ],
        [
         "18",
         "277119",
         "14.0",
         "Club Orange Craze",
         "1.0",
         "1750",
         "8.19"
        ],
        [
         "19",
         "251130",
         "14.0",
         "Club Peach Daiquiri Pouch",
         "1.0",
         "200",
         "1.5"
        ],
        [
         "20",
         "63769",
         "14.0",
         "Club Strawberry Margarita Pouch",
         "1.0",
         "200",
         "1.5"
        ],
        [
         "21",
         "135703",
         "14.0",
         "Club Strawberry Margarita",
         "1.0",
         "1750",
         "12.75"
        ],
        [
         "22",
         "103311",
         "14.0",
         "Club Cocktails Screwdriver",
         "1.0",
         "750",
         "5.19"
        ],
        [
         "23",
         "428257",
         "14.0",
         "Captain Morgan Long Island Iced Tea",
         "1.0",
         "1750",
         "16.5"
        ],
        [
         "24",
         "256146",
         "14.0",
         "Captain Morgan Parrot Bay Citrus Mojito",
         "1.0",
         "1750",
         "15.75"
        ],
        [
         "25",
         "167827",
         "9.0",
         "Crown Royal Regal Apple",
         "1.0",
         "375",
         "11.63"
        ],
        [
         "26",
         "387504",
         "9.0",
         "Crown Royal Regal Apple",
         "1.0",
         "1000",
         "27.75"
        ],
        [
         "27",
         "201598",
         "9.0",
         "Crown Royal 75th Anniversary",
         "1.0",
         "750",
         "52.49"
        ],
        [
         "28",
         "367664",
         "9.0",
         "Crown Royal Maple Mini",
         "1.0",
         "300",
         "11.03"
        ],
        [
         "29",
         "10034",
         "9.0",
         "Crown Royal Maple",
         "1.0",
         "750",
         "22.5"
        ],
        [
         "30",
         "159822",
         "9.0",
         "Crown Royal Maple",
         "1.0",
         "1000",
         "27.75"
        ],
        [
         "31",
         "50934",
         "9.0",
         "Crown Royal XO",
         "1.0",
         "750",
         "37.49"
        ],
        [
         "32",
         "380493",
         "9.0",
         "Crown Royal Northern Harvest Rye",
         "1.0",
         "750",
         "25.5"
        ],
        [
         "33",
         "89977",
         "9.0",
         "Crown Royal Black Mini",
         "1.0",
         "300",
         "10.26"
        ],
        [
         "34",
         "383396",
         "9.0",
         "Crown Royal Black",
         "1.0",
         "750",
         "25.5"
        ],
        [
         "35",
         "55925",
         "9.0",
         "Crown Royal Black",
         "1.0",
         "1750",
         "50.69"
        ],
        [
         "36",
         "308648",
         "9.0",
         "Crown Royal Cornerstone",
         "1.0",
         "750",
         "44.99"
        ],
        [
         "37",
         "380775",
         "3.0",
         "Cabin Fever Maple Flavored Whiskey",
         "1.0",
         "750",
         "15.0"
        ],
        [
         "38",
         "181045",
         "9.0",
         "Crown Royal Black",
         "1.0",
         "375",
         "12.38"
        ],
        [
         "39",
         "430292",
         "5.0",
         "Tanqueray Old Tom",
         "1.0",
         "1000",
         "26.25"
        ],
        [
         "40",
         "299044",
         "5.0",
         "Bailey's Candy Cane",
         "1.0",
         "200",
         "6.21"
        ],
        [
         "41",
         "138356",
         "7.0",
         "Smirnoff Coconut Mini",
         "1.0",
         "500",
         "8.58"
        ],
        [
         "42",
         "183087",
         "47.0",
         "Smirnoff Vodka 100 Prf",
         "1.0",
         "1750",
         "24.0"
        ],
        [
         "43",
         "461765",
         "7.0",
         "Jeremiah Weed Sweet Tea Vodka",
         "1.0",
         "750",
         "14.99"
        ],
        [
         "44",
         "221963",
         "7.0",
         "Jeremiah Weed Sweet Tea",
         "1.0",
         "1000",
         "15.75"
        ],
        [
         "45",
         "4887",
         "7.0",
         "Jeremiah Weed Sweet Tea Vodka",
         "1.0",
         "1750",
         "22.46"
        ],
        [
         "46",
         "336393",
         "7.0",
         "Jeremiah Weed Sweet Tea Mini",
         "1.0",
         "500",
         "6.42"
        ],
        [
         "47",
         "321712",
         "7.0",
         "Gordon's Orange Flavored Vodka",
         "1.0",
         "750",
         "7.89"
        ],
        [
         "48",
         "177773",
         "19.0",
         "Ciroc Luxury Vodka",
         "1.0",
         "375",
         "13.88"
        ],
        [
         "49",
         "277201",
         "19.0",
         "Ciroc Super Premium Vodka",
         "1.0",
         "750",
         "27.75"
        ]
       ],
       "shape": {
        "columns": 6,
        "rows": 12026
       }
      },
      "text/html": [
       "<div>\n",
       "<style scoped>\n",
       "    .dataframe tbody tr th:only-of-type {\n",
       "        vertical-align: middle;\n",
       "    }\n",
       "\n",
       "    .dataframe tbody tr th {\n",
       "        vertical-align: top;\n",
       "    }\n",
       "\n",
       "    .dataframe thead th {\n",
       "        text-align: right;\n",
       "    }\n",
       "</style>\n",
       "<table border=\"1\" class=\"dataframe\">\n",
       "  <thead>\n",
       "    <tr style=\"text-align: right;\">\n",
       "      <th></th>\n",
       "      <th>id</th>\n",
       "      <th>categoria_id</th>\n",
       "      <th>nombre</th>\n",
       "      <th>marca_id</th>\n",
       "      <th>volumen</th>\n",
       "      <th>precio</th>\n",
       "    </tr>\n",
       "  </thead>\n",
       "  <tbody>\n",
       "    <tr>\n",
       "      <th>0</th>\n",
       "      <td>356475</td>\n",
       "      <td>9.0</td>\n",
       "      <td>Crown Royal Honey</td>\n",
       "      <td>1.0</td>\n",
       "      <td>750</td>\n",
       "      <td>22.49</td>\n",
       "    </tr>\n",
       "    <tr>\n",
       "      <th>1</th>\n",
       "      <td>15335</td>\n",
       "      <td>9.0</td>\n",
       "      <td>Crown Royal Regal Apple Mini</td>\n",
       "      <td>1.0</td>\n",
       "      <td>300</td>\n",
       "      <td>11.03</td>\n",
       "    </tr>\n",
       "    <tr>\n",
       "      <th>2</th>\n",
       "      <td>81345</td>\n",
       "      <td>9.0</td>\n",
       "      <td>Crown Royal Regal Apple</td>\n",
       "      <td>1.0</td>\n",
       "      <td>200</td>\n",
       "      <td>7.08</td>\n",
       "    </tr>\n",
       "    <tr>\n",
       "      <th>3</th>\n",
       "      <td>150318</td>\n",
       "      <td>9.0</td>\n",
       "      <td>Crown Royal Xr Canadian Whiskey</td>\n",
       "      <td>1.0</td>\n",
       "      <td>750</td>\n",
       "      <td>98.99</td>\n",
       "    </tr>\n",
       "    <tr>\n",
       "      <th>4</th>\n",
       "      <td>310791</td>\n",
       "      <td>9.0</td>\n",
       "      <td>Crown Royal Canadian Whisky Mini</td>\n",
       "      <td>1.0</td>\n",
       "      <td>300</td>\n",
       "      <td>11.03</td>\n",
       "    </tr>\n",
       "    <tr>\n",
       "      <th>...</th>\n",
       "      <td>...</td>\n",
       "      <td>...</td>\n",
       "      <td>...</td>\n",
       "      <td>...</td>\n",
       "      <td>...</td>\n",
       "      <td>...</td>\n",
       "    </tr>\n",
       "    <tr>\n",
       "      <th>12021</th>\n",
       "      <td>15212</td>\n",
       "      <td>NaN</td>\n",
       "      <td>Generic Drink</td>\n",
       "      <td>NaN</td>\n",
       "      <td>750</td>\n",
       "      <td>7.25</td>\n",
       "    </tr>\n",
       "    <tr>\n",
       "      <th>12022</th>\n",
       "      <td>419980</td>\n",
       "      <td>NaN</td>\n",
       "      <td>Generic Drink</td>\n",
       "      <td>NaN</td>\n",
       "      <td>1000</td>\n",
       "      <td>8.63</td>\n",
       "    </tr>\n",
       "    <tr>\n",
       "      <th>12023</th>\n",
       "      <td>160671</td>\n",
       "      <td>NaN</td>\n",
       "      <td>Generic Drink</td>\n",
       "      <td>NaN</td>\n",
       "      <td>1000</td>\n",
       "      <td>8.63</td>\n",
       "    </tr>\n",
       "    <tr>\n",
       "      <th>12024</th>\n",
       "      <td>384823</td>\n",
       "      <td>NaN</td>\n",
       "      <td>Generic Drink</td>\n",
       "      <td>NaN</td>\n",
       "      <td>750</td>\n",
       "      <td>7.25</td>\n",
       "    </tr>\n",
       "    <tr>\n",
       "      <th>12025</th>\n",
       "      <td>446271</td>\n",
       "      <td>NaN</td>\n",
       "      <td>Generic Drink</td>\n",
       "      <td>NaN</td>\n",
       "      <td>750</td>\n",
       "      <td>7.25</td>\n",
       "    </tr>\n",
       "  </tbody>\n",
       "</table>\n",
       "<p>12026 rows × 6 columns</p>\n",
       "</div>"
      ],
      "text/plain": [
       "           id  categoria_id                            nombre  marca_id  \\\n",
       "0      356475           9.0                 Crown Royal Honey       1.0   \n",
       "1       15335           9.0      Crown Royal Regal Apple Mini       1.0   \n",
       "2       81345           9.0           Crown Royal Regal Apple       1.0   \n",
       "3      150318           9.0   Crown Royal Xr Canadian Whiskey       1.0   \n",
       "4      310791           9.0  Crown Royal Canadian Whisky Mini       1.0   \n",
       "...       ...           ...                               ...       ...   \n",
       "12021   15212           NaN                     Generic Drink       NaN   \n",
       "12022  419980           NaN                     Generic Drink       NaN   \n",
       "12023  160671           NaN                     Generic Drink       NaN   \n",
       "12024  384823           NaN                     Generic Drink       NaN   \n",
       "12025  446271           NaN                     Generic Drink       NaN   \n",
       "\n",
       "       volumen  precio  \n",
       "0          750   22.49  \n",
       "1          300   11.03  \n",
       "2          200    7.08  \n",
       "3          750   98.99  \n",
       "4          300   11.03  \n",
       "...        ...     ...  \n",
       "12021      750    7.25  \n",
       "12022     1000    8.63  \n",
       "12023     1000    8.63  \n",
       "12024      750    7.25  \n",
       "12025      750    7.25  \n",
       "\n",
       "[12026 rows x 6 columns]"
      ]
     },
     "execution_count": 14,
     "metadata": {},
     "output_type": "execute_result"
    }
   ],
   "source": [
    "product_df = pd.read_csv(\"data/producto.csv\") \n",
    "product_df"
   ]
  },
  {
   "cell_type": "code",
   "execution_count": 29,
   "id": "f69a8d0c",
   "metadata": {},
   "outputs": [
    {
     "data": {
      "image/png": "[encoded data removed]",
      "text/plain": [
       "<Figure size 800x500 with 1 Axes>"
      ]
     },
     "metadata": {},
     "output_type": "display_data"
    }
   ],
   "source": [
    "product_df_clean = remove_outliers(product_df, 'precio', n_std=1)\n",
    "plot_histogram(product_df_clean,'precio', bins=500)"
   ]
  },
  {
   "cell_type": "markdown",
   "id": "3f5759a1",
   "metadata": {},
   "source": [
    "### Statistics"
   ]
  },
  {
   "cell_type": "code",
   "execution_count": 28,
   "id": "95549228",
   "metadata": {},
   "outputs": [
    {
     "data": {
      "application/vnd.microsoft.datawrangler.viewer.v0+json": {
       "columns": [
        {
         "name": "index",
         "rawType": "object",
         "type": "string"
        },
        {
         "name": "id",
         "rawType": "float64",
         "type": "float"
        },
        {
         "name": "categoria_id",
         "rawType": "float64",
         "type": "float"
        },
        {
         "name": "marca_id",
         "rawType": "float64",
         "type": "float"
        },
        {
         "name": "volumen",
         "rawType": "float64",
         "type": "float"
        },
        {
         "name": "precio",
         "rawType": "float64",
         "type": "float"
        }
       ],
       "conversionMethod": "pd.DataFrame",
       "ref": "9a025330-5b1a-4412-9fd8-589a8987282b",
       "rows": [
        [
         "count",
         "12026.0",
         "10998.0",
         "11150.0",
         "12026.0",
         "12020.0"
        ],
        [
         "mean",
         "233928.29985032429",
         "23.148663393344243",
         "41.81273542600897",
         "1033.56244802927",
         "38.77050249584026"
        ],
        [
         "std",
         "133810.9101234571",
         "20.469180596947147",
         "62.77905894735092",
         "4717.0725058906655",
         "309.98007434490023"
        ],
        [
         "min",
         "15.0",
         "1.0",
         "1.0",
         "0.0",
         "0.0"
        ],
        [
         "25%",
         "117674.75",
         "7.0",
         "7.0",
         "750.0",
         "8.25"
        ],
        [
         "50%",
         "234303.5",
         "18.0",
         "19.0",
         "750.0",
         "14.25"
        ],
        [
         "75%",
         "349531.75",
         "37.0",
         "39.0",
         "750.0",
         "25.5"
        ],
        [
         "max",
         "466861.0",
         "101.0",
         "307.0",
         "225000.0",
         "9702.0"
        ]
       ],
       "shape": {
        "columns": 5,
        "rows": 8
       }
      },
      "text/html": [
       "<div>\n",
       "<style scoped>\n",
       "    .dataframe tbody tr th:only-of-type {\n",
       "        vertical-align: middle;\n",
       "    }\n",
       "\n",
       "    .dataframe tbody tr th {\n",
       "        vertical-align: top;\n",
       "    }\n",
       "\n",
       "    .dataframe thead th {\n",
       "        text-align: right;\n",
       "    }\n",
       "</style>\n",
       "<table border=\"1\" class=\"dataframe\">\n",
       "  <thead>\n",
       "    <tr style=\"text-align: right;\">\n",
       "      <th></th>\n",
       "      <th>id</th>\n",
       "      <th>categoria_id</th>\n",
       "      <th>marca_id</th>\n",
       "      <th>volumen</th>\n",
       "      <th>precio</th>\n",
       "    </tr>\n",
       "  </thead>\n",
       "  <tbody>\n",
       "    <tr>\n",
       "      <th>count</th>\n",
       "      <td>12026.000000</td>\n",
       "      <td>10998.000000</td>\n",
       "      <td>11150.000000</td>\n",
       "      <td>12026.000000</td>\n",
       "      <td>12020.000000</td>\n",
       "    </tr>\n",
       "    <tr>\n",
       "      <th>mean</th>\n",
       "      <td>233928.299850</td>\n",
       "      <td>23.148663</td>\n",
       "      <td>41.812735</td>\n",
       "      <td>1033.562448</td>\n",
       "      <td>38.770502</td>\n",
       "    </tr>\n",
       "    <tr>\n",
       "      <th>std</th>\n",
       "      <td>133810.910123</td>\n",
       "      <td>20.469181</td>\n",
       "      <td>62.779059</td>\n",
       "      <td>4717.072506</td>\n",
       "      <td>309.980074</td>\n",
       "    </tr>\n",
       "    <tr>\n",
       "      <th>min</th>\n",
       "      <td>15.000000</td>\n",
       "      <td>1.000000</td>\n",
       "      <td>1.000000</td>\n",
       "      <td>0.000000</td>\n",
       "      <td>0.000000</td>\n",
       "    </tr>\n",
       "    <tr>\n",
       "      <th>25%</th>\n",
       "      <td>117674.750000</td>\n",
       "      <td>7.000000</td>\n",
       "      <td>7.000000</td>\n",
       "      <td>750.000000</td>\n",
       "      <td>8.250000</td>\n",
       "    </tr>\n",
       "    <tr>\n",
       "      <th>50%</th>\n",
       "      <td>234303.500000</td>\n",
       "      <td>18.000000</td>\n",
       "      <td>19.000000</td>\n",
       "      <td>750.000000</td>\n",
       "      <td>14.250000</td>\n",
       "    </tr>\n",
       "    <tr>\n",
       "      <th>75%</th>\n",
       "      <td>349531.750000</td>\n",
       "      <td>37.000000</td>\n",
       "      <td>39.000000</td>\n",
       "      <td>750.000000</td>\n",
       "      <td>25.500000</td>\n",
       "    </tr>\n",
       "    <tr>\n",
       "      <th>max</th>\n",
       "      <td>466861.000000</td>\n",
       "      <td>101.000000</td>\n",
       "      <td>307.000000</td>\n",
       "      <td>225000.000000</td>\n",
       "      <td>9702.000000</td>\n",
       "    </tr>\n",
       "  </tbody>\n",
       "</table>\n",
       "</div>"
      ],
      "text/plain": [
       "                  id  categoria_id      marca_id        volumen        precio\n",
       "count   12026.000000  10998.000000  11150.000000   12026.000000  12020.000000\n",
       "mean   233928.299850     23.148663     41.812735    1033.562448     38.770502\n",
       "std    133810.910123     20.469181     62.779059    4717.072506    309.980074\n",
       "min        15.000000      1.000000      1.000000       0.000000      0.000000\n",
       "25%    117674.750000      7.000000      7.000000     750.000000      8.250000\n",
       "50%    234303.500000     18.000000     19.000000     750.000000     14.250000\n",
       "75%    349531.750000     37.000000     39.000000     750.000000     25.500000\n",
       "max    466861.000000    101.000000    307.000000  225000.000000   9702.000000"
      ]
     },
     "execution_count": 28,
     "metadata": {},
     "output_type": "execute_result"
    }
   ],
   "source": [
    "product_df.describe()"
   ]
  },
  {
   "cell_type": "markdown",
   "id": "8b22877b",
   "metadata": {},
   "source": [
    "### Data Quality"
   ]
  },
  {
   "cell_type": "code",
   "execution_count": null,
   "id": "5cf2fcc7",
   "metadata": {},
   "outputs": [
    {
     "data": {
      "image/png": "[encoded data removed]",
      "text/plain": [
       "<Figure size 800x400 with 1 Axes>"
      ]
     },
     "metadata": {},
     "output_type": "display_data"
    }
   ],
   "source": [
    "# Create boolean mask of missing values\n",
    "missing_mask_product = product_df.isnull().astype(int)\n",
    "\n",
    "# Plot the heatmap\n",
    "plt.figure(figsize=(8, 4))\n",
    "sns.heatmap(missing_mask_product, cbar=False, cmap='viridis')  # True=yellow, False=purple\n",
    "plt.title(\"Missing Values Heatmap\")\n",
    "plt.show()"
   ]
  },
  {
   "cell_type": "code",
   "execution_count": 54,
   "id": "e9a74ae2",
   "metadata": {},
   "outputs": [
    {
     "data": {
      "text/plain": [
       "id                 0\n",
       "categoria_id    1028\n",
       "nombre             0\n",
       "marca_id         876\n",
       "volumen            0\n",
       "precio             6\n",
       "dtype: int64"
      ]
     },
     "execution_count": 54,
     "metadata": {},
     "output_type": "execute_result"
    }
   ],
   "source": [
    "product_df.isna().sum()"
   ]
  },
  {
   "cell_type": "code",
   "execution_count": 56,
   "id": "3ad57bf6",
   "metadata": {},
   "outputs": [
    {
     "data": {
      "text/plain": [
       "np.int64(0)"
      ]
     },
     "execution_count": 56,
     "metadata": {},
     "output_type": "execute_result"
    }
   ],
   "source": [
    "product_df.duplicated().sum()"
   ]
  },
  {
   "cell_type": "markdown",
   "id": "0156a967",
   "metadata": {},
   "source": [
    "### Data Types"
   ]
  },
  {
   "cell_type": "code",
   "execution_count": 57,
   "id": "23e5d96a",
   "metadata": {},
   "outputs": [
    {
     "data": {
      "text/plain": [
       "id                int64\n",
       "categoria_id    float64\n",
       "nombre           object\n",
       "marca_id        float64\n",
       "volumen           int64\n",
       "precio          float64\n",
       "dtype: object"
      ]
     },
     "execution_count": 57,
     "metadata": {},
     "output_type": "execute_result"
    }
   ],
   "source": [
    "product_df.dtypes"
   ]
  },
  {
   "cell_type": "markdown",
   "id": "7845ddec",
   "metadata": {},
   "source": [
    "# Observaciones"
   ]
  },
  {
   "cell_type": "markdown",
   "id": "8f4cb205",
   "metadata": {},
   "source": [
    "## Clientes con mas compras"
   ]
  },
  {
   "cell_type": "code",
   "execution_count": 76,
   "id": "aab721c2",
   "metadata": {},
   "outputs": [
    {
     "name": "stderr",
     "output_type": "stream",
     "text": [
      "/var/folders/hx/y8xsfw254qj_h_vj_1f6p8kw0000gn/T/ipykernel_56745/781308401.py:21: FutureWarning: \n",
      "\n",
      "Passing `palette` without assigning `hue` is deprecated and will be removed in v0.14.0. Assign the `x` variable to `hue` and set `legend=False` for the same effect.\n",
      "\n",
      "  sns.barplot(y=merged_df.total_compras, x=merged_df.nombre, palette='Blues_r')\n"
     ]
    },
    {
     "data": {
      "image/png": "[encoded data removed]",
      "text/plain": [
       "<Figure size 640x480 with 1 Axes>"
      ]
     },
     "metadata": {},
     "output_type": "display_data"
    }
   ],
   "source": [
    "# Filtrar solo eventos de compra\n",
    "compras = events_df[events_df['event'] == 'transaction']\n",
    "\n",
    "# Contar compras por cliente\n",
    "compras_por_cliente = compras.groupby('visitorid')['transactionid'].nunique().sort_values(ascending=False).to_frame(name='total_compras')\n",
    "\n",
    "# Mostrar top 10\n",
    "compras_por_cliente\n",
    "\n",
    "merged_df = pd.merge(\n",
    "    compras_por_cliente, \n",
    "    client_df, \n",
    "    left_on='visitorid', \n",
    "    right_on='id', \n",
    "    how='outer'\n",
    ")\n",
    "merged_df = merged_df[['nombre', 'apellido', 'total_compras']].sort_values(by='total_compras', ascending=False)\n",
    "merged_df = merged_df.head(10)\n",
    "\n",
    "top_clients = compras_por_cliente.head(10)\n",
    "sns.barplot(y=merged_df.total_compras, x=merged_df.nombre, palette='Blues_r')\n",
    "plt.xlabel(\"Número de compras\")\n",
    "plt.ylabel(\"Cliente (visitorid)\")\n",
    "plt.title(\"Top 10 Clientes con más compras\")\n",
    "plt.show()"
   ]
  },
  {
   "cell_type": "markdown",
   "id": "c4d0e906",
   "metadata": {},
   "source": [
    "## Productos mas comprados"
   ]
  },
  {
   "cell_type": "code",
   "execution_count": 77,
   "id": "f039a1c1",
   "metadata": {},
   "outputs": [
    {
     "name": "stderr",
     "output_type": "stream",
     "text": [
      "/var/folders/hx/y8xsfw254qj_h_vj_1f6p8kw0000gn/T/ipykernel_56745/3528076202.py:8: FutureWarning: \n",
      "\n",
      "Passing `palette` without assigning `hue` is deprecated and will be removed in v0.14.0. Assign the `y` variable to `hue` and set `legend=False` for the same effect.\n",
      "\n",
      "  sns.barplot(x='transactionid', y='nombre', data=top_products, palette='Greens_r')\n"
     ]
    },
    {
     "data": {
      "image/png": "[encoded data removed]",
      "text/plain": [
       "<Figure size 640x480 with 1 Axes>"
      ]
     },
     "metadata": {},
     "output_type": "display_data"
    }
   ],
   "source": [
    "# Contar compras por producto\n",
    "productos_comprados = compras.groupby('itemid')['transactionid'].nunique().sort_values(ascending=False)\n",
    "\n",
    "# Top 10 productos\n",
    "top_products = productos_comprados.head(10).reset_index()\n",
    "top_products = top_products.merge(product_df[['id', 'nombre']], left_on='itemid', right_on='id')\n",
    "\n",
    "sns.barplot(x='transactionid', y='nombre', data=top_products, palette='Greens_r')\n",
    "plt.xlabel(\"Número de compras\")\n",
    "plt.ylabel(\"Producto\")\n",
    "plt.title(\"Top 10 Productos más vendidos\")\n",
    "plt.show()"
   ]
  },
  {
   "cell_type": "code",
   "execution_count": null,
   "id": "35c47e24",
   "metadata": {},
   "outputs": [],
   "source": [
    "# Unir productos con marcas\n",
    "productos_marcas = product_df.merge(brand_df, left_on='marca_id', right_on='id', how='left')\n",
    "\n",
    "# Contar compras por marca\n",
    "marcas_compradas = compras.merge(productos_marcas, left_on='itemid', right_on='id', how='left')\n",
    "marcas_count = marcas_compradas.groupby('marca')['transactionid'].nunique().sort_values(ascending=False)\n",
    "\n",
    "# Top 10 marcas\n",
    "top_brands = marcas_count.head(10)\n",
    "\n",
    "sns.barplot(x=top_brands.values, y=top_brands.index, palette='Oranges_r')\n",
    "plt.xlabel(\"Número de compras\")\n",
    "plt.ylabel(\"Marca\")\n",
    "plt.title(\"Top 10 Marcas más populares\")\n",
    "plt.show()"
   ]
  }
 ],
 "metadata": {
  "kernelspec": {
   "display_name": "ril",
   "language": "python",
   "name": "python3"
  },
  "language_info": {
   "codemirror_mode": {
    "name": "ipython",
    "version": 3
   },
   "file_extension": ".py",
   "mimetype": "text/x-python",
   "name": "python",
   "nbconvert_exporter": "python",
   "pygments_lexer": "ipython3",
   "version": "3.10.18"
  }
 },
 "nbformat": 4,
 "nbformat_minor": 5
}
